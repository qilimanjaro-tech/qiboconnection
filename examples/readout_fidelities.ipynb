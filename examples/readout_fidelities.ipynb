{
 "cells": [
  {
   "cell_type": "markdown",
   "metadata": {},
   "source": [
    "# Compute the readout fidelity of all qubits"
   ]
  },
  {
   "cell_type": "code",
   "execution_count": 1,
   "metadata": {},
   "outputs": [],
   "source": [
    "import numpy as np\n",
    "from qibo.gates import M, X\n",
    "from qibo.models import Circuit\n",
    "\n",
    "from qiboconnection.api import API\n",
    "from qiboconnection.connection import ConnectionConfiguration\n",
    "\n",
    "api = API(ConnectionConfiguration(username=\"qat\", api_key=\"meow\"))\n",
    "api.select_device_id(9)"
   ]
  },
  {
   "cell_type": "markdown",
   "metadata": {},
   "source": [
    "We first generate and queue the circuits we need to execute:"
   ]
  },
  {
   "cell_type": "code",
   "execution_count": 2,
   "metadata": {},
   "outputs": [
    {
     "name": "stdout",
     "output_type": "stream",
     "text": [
      "The id of the executed job is: 5734\n"
     ]
    }
   ],
   "source": [
    "circuits = []\n",
    "qubits = np.arange(5)\n",
    "for qubit in qubits:\n",
    "    circuit0 = Circuit(5)\n",
    "    circuit0.add(M(qubit))\n",
    "\n",
    "    circuit1 = Circuit(5)\n",
    "    circuit1.add(X(qubit))\n",
    "    circuit1.add(M(qubit))\n",
    "\n",
    "    circuits.extend([circuit0, circuit1])\n",
    "\n",
    "result_id = api.execute(circuits, nshots=1000)[0]\n",
    "\n",
    "print(f\"The id of the executed job is: {result_id}\")"
   ]
  },
  {
   "cell_type": "markdown",
   "metadata": {},
   "source": [
    "Once the jobs have been executed, we can use the cell below to compute the readout fidelities:"
   ]
  },
  {
   "cell_type": "code",
   "execution_count": 5,
   "metadata": {},
   "outputs": [
    {
     "name": "stderr",
     "output_type": "stream",
     "text": [
      "Your job with id 5734 is completed.\n"
     ]
    }
   ],
   "source": [
    "results = api.get_result(result_id)"
   ]
  },
  {
   "cell_type": "code",
   "execution_count": 6,
   "metadata": {},
   "outputs": [
    {
     "name": "stdout",
     "output_type": "stream",
     "text": [
      "### QUBIT: 0 ###\n",
      "Ground state: {'probabilities': {'0': 0.926, '1': 0.074}}\n",
      "Excited state: {'probabilities': {'0': 0.272, '1': 0.728}}\n",
      "Fidelity 0.827\n",
      "### QUBIT: 1 ###\n",
      "Ground state: {'probabilities': {'0': 0.896, '1': 0.104}}\n",
      "Excited state: {'probabilities': {'0': 0.326, '1': 0.674}}\n",
      "Fidelity 0.7849999999999999\n",
      "### QUBIT: 2 ###\n",
      "Ground state: {'probabilities': {'0': 0.901, '1': 0.099}}\n",
      "Excited state: {'probabilities': {'0': 0.14, '1': 0.86}}\n",
      "Fidelity 0.8805000000000001\n",
      "### QUBIT: 3 ###\n",
      "Ground state: {'probabilities': {'0': 0.85, '1': 0.15}}\n",
      "Excited state: {'probabilities': {'0': 0.167, '1': 0.833}}\n",
      "Fidelity 0.8414999999999999\n",
      "### QUBIT: 4 ###\n",
      "Ground state: {'probabilities': {'0': 0.24, '1': 0.76}}\n",
      "Excited state: {'probabilities': {'0': 0.021, '1': 0.979}}\n",
      "Fidelity 0.6094999999999999\n"
     ]
    }
   ],
   "source": [
    "for qubit_idx in qubits:\n",
    "    # We take the pair of results that correspond to the specific qubit\n",
    "    results0 = results[qubit_idx * 2]\n",
    "    results1 = results[qubit_idx * 2 + 1]\n",
    "\n",
    "    clf_0 = (1 - results0[\"probabilities\"][\"0\"] + results0[\"probabilities\"][\"1\"]) / 2\n",
    "    clf_1 = (1 - results1[\"probabilities\"][\"0\"] + results1[\"probabilities\"][\"1\"]) / 2\n",
    "    fid_avg = (1 - clf_0 + clf_1) / 2\n",
    "    print(f\"### QUBIT: {qubit_idx} ###\")\n",
    "    print(f\"Ground state: {results0}\")\n",
    "    print(f\"Excited state: {results1}\")\n",
    "    print(\"Fidelity\", fid_avg)"
   ]
  }
 ],
 "metadata": {
  "kernelspec": {
   "display_name": "Python 3",
   "language": "python",
   "name": "python3"
  },
  "language_info": {
   "codemirror_mode": {
    "name": "ipython",
    "version": 3
   },
   "file_extension": ".py",
   "mimetype": "text/x-python",
   "name": "python",
   "nbconvert_exporter": "python",
   "pygments_lexer": "ipython3",
   "version": "3.11.5"
  }
 },
 "nbformat": 4,
 "nbformat_minor": 2
}
