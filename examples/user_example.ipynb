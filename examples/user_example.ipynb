{
 "cells": [
  {
   "cell_type": "code",
   "execution_count": 1,
   "id": "e74f2667-1d3f-4267-ab16-319588460a5f",
   "metadata": {},
   "outputs": [],
   "source": [
    "import contextlib\n",
    "import os\n",
    "from time import sleep\n",
    "\n",
    "import qibo\n",
    "from qibo import gates\n",
    "from qibo.models.circuit import Circuit\n",
    "\n",
    "from qiboconnection.api import API\n",
    "from qiboconnection.connection import ConnectionConfiguration"
   ]
  },
  {
   "attachments": {},
   "cell_type": "markdown",
   "id": "40a35dc8-dbf2-4829-b00b-2822b1ea7f73",
   "metadata": {},
   "source": [
    "## Connect to the Qibo Service API"
   ]
  },
  {
   "cell_type": "code",
   "execution_count": 2,
   "id": "8b532548-c490-42a2-9253-73c393808e98",
   "metadata": {},
   "outputs": [
    {
     "name": "stderr",
     "output_type": "stream",
     "text": [
      "[qibo-connection] 0.11.0|INFO|2023-07-03 16:24:28]: Storing personal qibo configuration...\n"
     ]
    }
   ],
   "source": [
    "os.environ[\"QIBOCONNECTION_ENVIRONMENT\"] = \"development\"\n",
    "configuration = ConnectionConfiguration(username=\"qili-admin-test\", api_key=\"8b2433a2-365c-4dd6-aa02-646ea42ba950\")\n",
    "qibo_api = API(configuration=configuration)"
   ]
  },
  {
   "cell_type": "code",
   "execution_count": 6,
   "id": "4b40abe3",
   "metadata": {},
   "outputs": [
    {
     "ename": "JSONDecodeError",
     "evalue": "Expecting value: line 1 column 1 (char 0)",
     "output_type": "error",
     "traceback": [
      "\u001b[0;31m---------------------------------------------------------------------------\u001b[0m",
      "\u001b[0;31mJSONDecodeError\u001b[0m                           Traceback (most recent call last)",
      "File \u001b[0;32m~/miniconda3/envs/qiboconnection/lib/python3.11/site-packages/requests/models.py:971\u001b[0m, in \u001b[0;36mResponse.json\u001b[0;34m(self, **kwargs)\u001b[0m\n\u001b[1;32m    970\u001b[0m \u001b[39mtry\u001b[39;00m:\n\u001b[0;32m--> 971\u001b[0m     \u001b[39mreturn\u001b[39;00m complexjson\u001b[39m.\u001b[39;49mloads(\u001b[39mself\u001b[39;49m\u001b[39m.\u001b[39;49mtext, \u001b[39m*\u001b[39;49m\u001b[39m*\u001b[39;49mkwargs)\n\u001b[1;32m    972\u001b[0m \u001b[39mexcept\u001b[39;00m JSONDecodeError \u001b[39mas\u001b[39;00m e:\n\u001b[1;32m    973\u001b[0m     \u001b[39m# Catch JSON-related errors and raise as requests.JSONDecodeError\u001b[39;00m\n\u001b[1;32m    974\u001b[0m     \u001b[39m# This aliases json.JSONDecodeError and simplejson.JSONDecodeError\u001b[39;00m\n",
      "File \u001b[0;32m~/miniconda3/envs/qiboconnection/lib/python3.11/json/__init__.py:346\u001b[0m, in \u001b[0;36mloads\u001b[0;34m(s, cls, object_hook, parse_float, parse_int, parse_constant, object_pairs_hook, **kw)\u001b[0m\n\u001b[1;32m    343\u001b[0m \u001b[39mif\u001b[39;00m (\u001b[39mcls\u001b[39m \u001b[39mis\u001b[39;00m \u001b[39mNone\u001b[39;00m \u001b[39mand\u001b[39;00m object_hook \u001b[39mis\u001b[39;00m \u001b[39mNone\u001b[39;00m \u001b[39mand\u001b[39;00m\n\u001b[1;32m    344\u001b[0m         parse_int \u001b[39mis\u001b[39;00m \u001b[39mNone\u001b[39;00m \u001b[39mand\u001b[39;00m parse_float \u001b[39mis\u001b[39;00m \u001b[39mNone\u001b[39;00m \u001b[39mand\u001b[39;00m\n\u001b[1;32m    345\u001b[0m         parse_constant \u001b[39mis\u001b[39;00m \u001b[39mNone\u001b[39;00m \u001b[39mand\u001b[39;00m object_pairs_hook \u001b[39mis\u001b[39;00m \u001b[39mNone\u001b[39;00m \u001b[39mand\u001b[39;00m \u001b[39mnot\u001b[39;00m kw):\n\u001b[0;32m--> 346\u001b[0m     \u001b[39mreturn\u001b[39;00m _default_decoder\u001b[39m.\u001b[39;49mdecode(s)\n\u001b[1;32m    347\u001b[0m \u001b[39mif\u001b[39;00m \u001b[39mcls\u001b[39m \u001b[39mis\u001b[39;00m \u001b[39mNone\u001b[39;00m:\n",
      "File \u001b[0;32m~/miniconda3/envs/qiboconnection/lib/python3.11/json/decoder.py:337\u001b[0m, in \u001b[0;36mJSONDecoder.decode\u001b[0;34m(self, s, _w)\u001b[0m\n\u001b[1;32m    333\u001b[0m \u001b[39m\u001b[39m\u001b[39m\"\"\"Return the Python representation of ``s`` (a ``str`` instance\u001b[39;00m\n\u001b[1;32m    334\u001b[0m \u001b[39mcontaining a JSON document).\u001b[39;00m\n\u001b[1;32m    335\u001b[0m \n\u001b[1;32m    336\u001b[0m \u001b[39m\"\"\"\u001b[39;00m\n\u001b[0;32m--> 337\u001b[0m obj, end \u001b[39m=\u001b[39m \u001b[39mself\u001b[39;49m\u001b[39m.\u001b[39;49mraw_decode(s, idx\u001b[39m=\u001b[39;49m_w(s, \u001b[39m0\u001b[39;49m)\u001b[39m.\u001b[39;49mend())\n\u001b[1;32m    338\u001b[0m end \u001b[39m=\u001b[39m _w(s, end)\u001b[39m.\u001b[39mend()\n",
      "File \u001b[0;32m~/miniconda3/envs/qiboconnection/lib/python3.11/json/decoder.py:355\u001b[0m, in \u001b[0;36mJSONDecoder.raw_decode\u001b[0;34m(self, s, idx)\u001b[0m\n\u001b[1;32m    354\u001b[0m \u001b[39mexcept\u001b[39;00m \u001b[39mStopIteration\u001b[39;00m \u001b[39mas\u001b[39;00m err:\n\u001b[0;32m--> 355\u001b[0m     \u001b[39mraise\u001b[39;00m JSONDecodeError(\u001b[39m\"\u001b[39m\u001b[39mExpecting value\u001b[39m\u001b[39m\"\u001b[39m, s, err\u001b[39m.\u001b[39mvalue) \u001b[39mfrom\u001b[39;00m \u001b[39mNone\u001b[39m\n\u001b[1;32m    356\u001b[0m \u001b[39mreturn\u001b[39;00m obj, end\n",
      "\u001b[0;31mJSONDecodeError\u001b[0m: Expecting value: line 1 column 1 (char 0)",
      "\nDuring handling of the above exception, another exception occurred:\n",
      "\u001b[0;31mJSONDecodeError\u001b[0m                           Traceback (most recent call last)",
      "\u001b[1;32m/home/adria/Projects/qiboconnection/examples/user_example.ipynb Cell 4\u001b[0m in \u001b[0;36m<cell line: 0>\u001b[0;34m()\u001b[0m\n\u001b[0;32m----> <a href='vscode-notebook-cell:/home/adria/Projects/qiboconnection/examples/user_example.ipynb#X60sZmlsZQ%3D%3D?line=0'>1</a>\u001b[0m qibo_api\u001b[39m.\u001b[39;49mdelete_job(\u001b[39m10313\u001b[39;49m)\n",
      "File \u001b[0;32m~/miniconda3/envs/qiboconnection/lib/python3.11/site-packages/typeguard/__init__.py:1033\u001b[0m, in \u001b[0;36mtypechecked.<locals>.wrapper\u001b[0;34m(*args, **kwargs)\u001b[0m\n\u001b[1;32m   1031\u001b[0m memo \u001b[39m=\u001b[39m _CallMemo(python_func, _localns, args\u001b[39m=\u001b[39margs, kwargs\u001b[39m=\u001b[39mkwargs)\n\u001b[1;32m   1032\u001b[0m check_argument_types(memo)\n\u001b[0;32m-> 1033\u001b[0m retval \u001b[39m=\u001b[39m func(\u001b[39m*\u001b[39;49margs, \u001b[39m*\u001b[39;49m\u001b[39m*\u001b[39;49mkwargs)\n\u001b[1;32m   1034\u001b[0m \u001b[39mtry\u001b[39;00m:\n\u001b[1;32m   1035\u001b[0m     check_return_type(retval, memo)\n",
      "File \u001b[0;32m~/Projects/qiboconnection/src/qiboconnection/api.py:987\u001b[0m, in \u001b[0;36mAPI.delete_job\u001b[0;34m(self, job_id)\u001b[0m\n\u001b[1;32m    982\u001b[0m \u001b[39m@typechecked\u001b[39m\n\u001b[1;32m    983\u001b[0m \u001b[39mdef\u001b[39;00m \u001b[39mdelete_job\u001b[39m(\u001b[39mself\u001b[39m, job_id: \u001b[39mint\u001b[39m) \u001b[39m-\u001b[39m\u001b[39m>\u001b[39m \u001b[39mNone\u001b[39;00m:\n\u001b[1;32m    984\u001b[0m \u001b[39m    \u001b[39m\u001b[39m\"\"\"Deletes a job from the database (only for admin users)        Raises:\u001b[39;00m\n\u001b[1;32m    985\u001b[0m \u001b[39m    RemoteExecutionException: Devices could not be retrieved        Returns:\u001b[39;00m\n\u001b[1;32m    986\u001b[0m \u001b[39m    \"\"\"\u001b[39;00m\n\u001b[0;32m--> 987\u001b[0m     response, status_code \u001b[39m=\u001b[39m \u001b[39mself\u001b[39;49m\u001b[39m.\u001b[39;49m_connection\u001b[39m.\u001b[39;49msend_delete_auth_remote_api_call(\n\u001b[1;32m    988\u001b[0m         path\u001b[39m=\u001b[39;49m\u001b[39mf\u001b[39;49m\u001b[39m\"\u001b[39;49m\u001b[39m{\u001b[39;49;00m\u001b[39mself\u001b[39;49m\u001b[39m.\u001b[39;49mJOBS_CALL_PATH\u001b[39m}\u001b[39;49;00m\u001b[39m/\u001b[39;49m\u001b[39m{\u001b[39;49;00mjob_id\u001b[39m}\u001b[39;49;00m\u001b[39m\"\u001b[39;49m\n\u001b[1;32m    989\u001b[0m     )\n\u001b[1;32m    990\u001b[0m     \u001b[39mif\u001b[39;00m status_code \u001b[39m!=\u001b[39m \u001b[39m204\u001b[39m:\n\u001b[1;32m    991\u001b[0m         \u001b[39mraise\u001b[39;00m RemoteExecutionException(message\u001b[39m=\u001b[39m\u001b[39m\"\u001b[39m\u001b[39mJob could not be removed.\u001b[39m\u001b[39m\"\u001b[39m, status_code\u001b[39m=\u001b[39mstatus_code)\n",
      "File \u001b[0;32m~/Projects/qiboconnection/src/qiboconnection/connection.py:44\u001b[0m, in \u001b[0;36mrefresh_token_if_unauthorised.<locals>.decorated\u001b[0;34m(self, *args, **kwargs)\u001b[0m\n\u001b[1;32m     42\u001b[0m \u001b[39m\u001b[39m\u001b[39m\"\"\"decorated\"\"\"\u001b[39;00m\n\u001b[1;32m     43\u001b[0m \u001b[39mtry\u001b[39;00m:\n\u001b[0;32m---> 44\u001b[0m     \u001b[39mreturn\u001b[39;00m func(\u001b[39mself\u001b[39;49m, \u001b[39m*\u001b[39;49margs, \u001b[39m*\u001b[39;49m\u001b[39m*\u001b[39;49mkwargs)\n\u001b[1;32m     45\u001b[0m \u001b[39mexcept\u001b[39;00m HTTPError \u001b[39mas\u001b[39;00m ex:\n\u001b[1;32m     46\u001b[0m     \u001b[39mif\u001b[39;00m ex\u001b[39m.\u001b[39mresponse\u001b[39m.\u001b[39mstatus_code \u001b[39mnot\u001b[39;00m \u001b[39min\u001b[39;00m [\u001b[39m400\u001b[39m, \u001b[39m401\u001b[39m]:\n",
      "File \u001b[0;32m~/miniconda3/envs/qiboconnection/lib/python3.11/site-packages/typeguard/__init__.py:1033\u001b[0m, in \u001b[0;36mtypechecked.<locals>.wrapper\u001b[0;34m(*args, **kwargs)\u001b[0m\n\u001b[1;32m   1031\u001b[0m memo \u001b[39m=\u001b[39m _CallMemo(python_func, _localns, args\u001b[39m=\u001b[39margs, kwargs\u001b[39m=\u001b[39mkwargs)\n\u001b[1;32m   1032\u001b[0m check_argument_types(memo)\n\u001b[0;32m-> 1033\u001b[0m retval \u001b[39m=\u001b[39m func(\u001b[39m*\u001b[39;49margs, \u001b[39m*\u001b[39;49m\u001b[39m*\u001b[39;49mkwargs)\n\u001b[1;32m   1034\u001b[0m \u001b[39mtry\u001b[39;00m:\n\u001b[1;32m   1035\u001b[0m     check_return_type(retval, memo)\n",
      "File \u001b[0;32m~/Projects/qiboconnection/src/qiboconnection/connection.py:413\u001b[0m, in \u001b[0;36mConnection.send_delete_auth_remote_api_call\u001b[0;34m(self, path)\u001b[0m\n\u001b[1;32m    410\u001b[0m response \u001b[39m=\u001b[39m requests\u001b[39m.\u001b[39mdelete(\u001b[39mf\u001b[39m\u001b[39m\"\u001b[39m\u001b[39m{\u001b[39;00m\u001b[39mself\u001b[39m\u001b[39m.\u001b[39m_remote_server_api_url\u001b[39m}\u001b[39;00m\u001b[39m{\u001b[39;00mpath\u001b[39m}\u001b[39;00m\u001b[39m\"\u001b[39m, headers\u001b[39m=\u001b[39mheader)\n\u001b[1;32m    412\u001b[0m \u001b[39mif\u001b[39;00m response\u001b[39m.\u001b[39mstatus_code \u001b[39m!=\u001b[39m \u001b[39m200\u001b[39m:\n\u001b[0;32m--> 413\u001b[0m     error_details \u001b[39m=\u001b[39m response\u001b[39m.\u001b[39;49mjson()\n\u001b[1;32m    414\u001b[0m     \u001b[39mif\u001b[39;00m \u001b[39m\"\u001b[39m\u001b[39mdetail\u001b[39m\u001b[39m\"\u001b[39m \u001b[39min\u001b[39;00m error_details \u001b[39mand\u001b[39;00m \u001b[39m\"\u001b[39m\u001b[39mdoes not exist\u001b[39m\u001b[39m\"\u001b[39m \u001b[39min\u001b[39;00m error_details[\u001b[39m\"\u001b[39m\u001b[39mdetail\u001b[39m\u001b[39m\"\u001b[39m]:\n\u001b[1;32m    415\u001b[0m         \u001b[39mraise\u001b[39;00m RemoteExecutionException(\u001b[39m\"\u001b[39m\u001b[39mThe job does not exist!\u001b[39m\u001b[39m\"\u001b[39m, status_code\u001b[39m=\u001b[39m\u001b[39m400\u001b[39m)\n",
      "File \u001b[0;32m~/miniconda3/envs/qiboconnection/lib/python3.11/site-packages/requests/models.py:975\u001b[0m, in \u001b[0;36mResponse.json\u001b[0;34m(self, **kwargs)\u001b[0m\n\u001b[1;32m    971\u001b[0m     \u001b[39mreturn\u001b[39;00m complexjson\u001b[39m.\u001b[39mloads(\u001b[39mself\u001b[39m\u001b[39m.\u001b[39mtext, \u001b[39m*\u001b[39m\u001b[39m*\u001b[39mkwargs)\n\u001b[1;32m    972\u001b[0m \u001b[39mexcept\u001b[39;00m JSONDecodeError \u001b[39mas\u001b[39;00m e:\n\u001b[1;32m    973\u001b[0m     \u001b[39m# Catch JSON-related errors and raise as requests.JSONDecodeError\u001b[39;00m\n\u001b[1;32m    974\u001b[0m     \u001b[39m# This aliases json.JSONDecodeError and simplejson.JSONDecodeError\u001b[39;00m\n\u001b[0;32m--> 975\u001b[0m     \u001b[39mraise\u001b[39;00m RequestsJSONDecodeError(e\u001b[39m.\u001b[39mmsg, e\u001b[39m.\u001b[39mdoc, e\u001b[39m.\u001b[39mpos)\n",
      "\u001b[0;31mJSONDecodeError\u001b[0m: Expecting value: line 1 column 1 (char 0)"
     ]
    }
   ],
   "source": [
    "qibo_api.delete_job(10313)"
   ]
  },
  {
   "attachments": {},
   "cell_type": "markdown",
   "id": "7fd6943c",
   "metadata": {},
   "source": [
    "## List all jobs metadata: list_jobs()"
   ]
  },
  {
   "cell_type": "code",
   "execution_count": 26,
   "id": "cd35d979",
   "metadata": {},
   "outputs": [
    {
     "data": {
      "text/html": [
       "<div>\n",
       "<style scoped>\n",
       "    .dataframe tbody tr th:only-of-type {\n",
       "        vertical-align: middle;\n",
       "    }\n",
       "\n",
       "    .dataframe tbody tr th {\n",
       "        vertical-align: top;\n",
       "    }\n",
       "\n",
       "    .dataframe thead th {\n",
       "        text-align: right;\n",
       "    }\n",
       "</style>\n",
       "<table border=\"1\" class=\"dataframe\">\n",
       "  <thead>\n",
       "    <tr style=\"text-align: right;\">\n",
       "      <th></th>\n",
       "      <th>user_id</th>\n",
       "      <th>device_id</th>\n",
       "      <th>status</th>\n",
       "      <th>job_type</th>\n",
       "      <th>number_shots</th>\n",
       "      <th>id</th>\n",
       "    </tr>\n",
       "  </thead>\n",
       "  <tbody>\n",
       "    <tr>\n",
       "      <th>0</th>\n",
       "      <td>3</td>\n",
       "      <td>9</td>\n",
       "      <td>error</td>\n",
       "      <td>circuit</td>\n",
       "      <td>10</td>\n",
       "      <td>10324</td>\n",
       "    </tr>\n",
       "    <tr>\n",
       "      <th>1</th>\n",
       "      <td>3</td>\n",
       "      <td>9</td>\n",
       "      <td>error</td>\n",
       "      <td>circuit</td>\n",
       "      <td>10</td>\n",
       "      <td>10323</td>\n",
       "    </tr>\n",
       "    <tr>\n",
       "      <th>2</th>\n",
       "      <td>6</td>\n",
       "      <td>1</td>\n",
       "      <td>error</td>\n",
       "      <td>experiment</td>\n",
       "      <td>10</td>\n",
       "      <td>10322</td>\n",
       "    </tr>\n",
       "    <tr>\n",
       "      <th>3</th>\n",
       "      <td>6</td>\n",
       "      <td>9</td>\n",
       "      <td>error</td>\n",
       "      <td>experiment</td>\n",
       "      <td>10</td>\n",
       "      <td>10321</td>\n",
       "    </tr>\n",
       "    <tr>\n",
       "      <th>4</th>\n",
       "      <td>6</td>\n",
       "      <td>10</td>\n",
       "      <td>pending</td>\n",
       "      <td>experiment</td>\n",
       "      <td>10</td>\n",
       "      <td>10320</td>\n",
       "    </tr>\n",
       "  </tbody>\n",
       "</table>\n",
       "</div>"
      ],
      "text/plain": [
       "   user_id  device_id   status    job_type  number_shots     id\n",
       "0        3          9    error     circuit            10  10324\n",
       "1        3          9    error     circuit            10  10323\n",
       "2        6          1    error  experiment            10  10322\n",
       "3        6          9    error  experiment            10  10321\n",
       "4        6         10  pending  experiment            10  10320"
      ]
     },
     "execution_count": 26,
     "metadata": {},
     "output_type": "execute_result"
    }
   ],
   "source": [
    "jobs_df = qibo_api.list_jobs().dataframe\n",
    "jobs_df.head()"
   ]
  },
  {
   "cell_type": "code",
   "execution_count": 24,
   "id": "03580212",
   "metadata": {},
   "outputs": [
    {
     "data": {
      "text/html": [
       "<div>\n",
       "<style scoped>\n",
       "    .dataframe tbody tr th:only-of-type {\n",
       "        vertical-align: middle;\n",
       "    }\n",
       "\n",
       "    .dataframe tbody tr th {\n",
       "        vertical-align: top;\n",
       "    }\n",
       "\n",
       "    .dataframe thead th {\n",
       "        text-align: right;\n",
       "    }\n",
       "</style>\n",
       "<table border=\"1\" class=\"dataframe\">\n",
       "  <thead>\n",
       "    <tr style=\"text-align: right;\">\n",
       "      <th></th>\n",
       "      <th>user_id</th>\n",
       "      <th>device_id</th>\n",
       "      <th>status</th>\n",
       "      <th>job_type</th>\n",
       "      <th>number_shots</th>\n",
       "      <th>id</th>\n",
       "    </tr>\n",
       "  </thead>\n",
       "  <tbody>\n",
       "    <tr>\n",
       "      <th>8</th>\n",
       "      <td>3</td>\n",
       "      <td>1</td>\n",
       "      <td>completed</td>\n",
       "      <td>circuit</td>\n",
       "      <td>10</td>\n",
       "      <td>10316</td>\n",
       "    </tr>\n",
       "    <tr>\n",
       "      <th>9</th>\n",
       "      <td>3</td>\n",
       "      <td>1</td>\n",
       "      <td>completed</td>\n",
       "      <td>circuit</td>\n",
       "      <td>10</td>\n",
       "      <td>10315</td>\n",
       "    </tr>\n",
       "    <tr>\n",
       "      <th>10</th>\n",
       "      <td>3</td>\n",
       "      <td>1</td>\n",
       "      <td>completed</td>\n",
       "      <td>circuit</td>\n",
       "      <td>10</td>\n",
       "      <td>10314</td>\n",
       "    </tr>\n",
       "    <tr>\n",
       "      <th>11</th>\n",
       "      <td>3</td>\n",
       "      <td>1</td>\n",
       "      <td>completed</td>\n",
       "      <td>circuit</td>\n",
       "      <td>10</td>\n",
       "      <td>10313</td>\n",
       "    </tr>\n",
       "    <tr>\n",
       "      <th>12</th>\n",
       "      <td>3</td>\n",
       "      <td>1</td>\n",
       "      <td>completed</td>\n",
       "      <td>circuit</td>\n",
       "      <td>10</td>\n",
       "      <td>10312</td>\n",
       "    </tr>\n",
       "    <tr>\n",
       "      <th>...</th>\n",
       "      <td>...</td>\n",
       "      <td>...</td>\n",
       "      <td>...</td>\n",
       "      <td>...</td>\n",
       "      <td>...</td>\n",
       "      <td>...</td>\n",
       "    </tr>\n",
       "    <tr>\n",
       "      <th>4344</th>\n",
       "      <td>3</td>\n",
       "      <td>1</td>\n",
       "      <td>completed</td>\n",
       "      <td>circuit</td>\n",
       "      <td>10</td>\n",
       "      <td>5688</td>\n",
       "    </tr>\n",
       "    <tr>\n",
       "      <th>4346</th>\n",
       "      <td>3</td>\n",
       "      <td>1</td>\n",
       "      <td>completed</td>\n",
       "      <td>circuit</td>\n",
       "      <td>10</td>\n",
       "      <td>5685</td>\n",
       "    </tr>\n",
       "    <tr>\n",
       "      <th>4347</th>\n",
       "      <td>3</td>\n",
       "      <td>1</td>\n",
       "      <td>completed</td>\n",
       "      <td>circuit</td>\n",
       "      <td>10</td>\n",
       "      <td>5684</td>\n",
       "    </tr>\n",
       "    <tr>\n",
       "      <th>4348</th>\n",
       "      <td>3</td>\n",
       "      <td>1</td>\n",
       "      <td>completed</td>\n",
       "      <td>circuit</td>\n",
       "      <td>10</td>\n",
       "      <td>5683</td>\n",
       "    </tr>\n",
       "    <tr>\n",
       "      <th>4349</th>\n",
       "      <td>3</td>\n",
       "      <td>1</td>\n",
       "      <td>completed</td>\n",
       "      <td>circuit</td>\n",
       "      <td>10</td>\n",
       "      <td>5682</td>\n",
       "    </tr>\n",
       "  </tbody>\n",
       "</table>\n",
       "<p>3882 rows × 6 columns</p>\n",
       "</div>"
      ],
      "text/plain": [
       "      user_id  device_id     status job_type  number_shots     id\n",
       "8           3          1  completed  circuit            10  10316\n",
       "9           3          1  completed  circuit            10  10315\n",
       "10          3          1  completed  circuit            10  10314\n",
       "11          3          1  completed  circuit            10  10313\n",
       "12          3          1  completed  circuit            10  10312\n",
       "...       ...        ...        ...      ...           ...    ...\n",
       "4344        3          1  completed  circuit            10   5688\n",
       "4346        3          1  completed  circuit            10   5685\n",
       "4347        3          1  completed  circuit            10   5684\n",
       "4348        3          1  completed  circuit            10   5683\n",
       "4349        3          1  completed  circuit            10   5682\n",
       "\n",
       "[3882 rows x 6 columns]"
      ]
     },
     "execution_count": 24,
     "metadata": {},
     "output_type": "execute_result"
    }
   ],
   "source": [
    "jobs_df[(jobs_df[\"job_type\"] == \"circuit\") & (jobs_df[\"status\"] == \"completed\")]"
   ]
  },
  {
   "attachments": {},
   "cell_type": "markdown",
   "id": "39c44c57",
   "metadata": {},
   "source": [
    "## Get specific job data: get_job()"
   ]
  },
  {
   "cell_type": "code",
   "execution_count": 5,
   "id": "3b4203d4",
   "metadata": {},
   "outputs": [
    {
     "name": "stderr",
     "output_type": "stream",
     "text": [
      "[qibo-connection] 0.11.0|WARNING|2023-07-03 11:08:12]: Your job with id 10320 is still pending. Job queue position: 73\n"
     ]
    },
    {
     "data": {
      "text/plain": [
       "JobData(status='pending', queue_position=73, user_id=6, device_id=10, job_id=10320, job_type='experiment', number_shots=10, description={'platform': {'settings': {'id_': 0, 'category': 'platform', 'alias': None, 'name': 'galadriel', 'delay_between_pulses': 0, 'delay_before_readout': 80.0, 'master_amplitude_gate': 1, 'master_duration_gate': 100, 'gates': [{'name': 'M', 'amplitude': 'master_amplitude_gate', 'phase': 0, 'duration': 2000, 'shape': {'name': 'rectangular'}}, {'name': 'I', 'amplitude': 0, 'phase': 0, 'duration': 0, 'shape': {'name': 'rectangular'}}, {'name': 'X', 'amplitude': 'master_amplitude_gate', 'phase': 0, 'duration': 'master_duration_gate', 'shape': {'name': 'drag', 'num_sigmas': 4, 'drag_coefficient': 0}}, {'name': 'Y', 'amplitude': 'master_amplitude_gate', 'phase': 1.5707963267948966, 'duration': 'master_duration_gate', 'shape': {'name': 'drag', 'num_sigmas': 4, 'drag_coefficient': 0}}]}, 'schema': {'chip': {'id_': 0, 'category': 'chip', 'nodes': [{'name': 'port', 'id_': 0, 'category': 'node', 'alias': None, 'nodes': [3]}, {'name': 'port', 'id_': 1, 'category': 'node', 'alias': None, 'nodes': [2]}, {'name': 'resonator', 'id_': 2, 'category': 'node', 'alias': 'resonator', 'nodes': [1, 3], 'frequency': 7347300000.0}, {'name': 'qubit', 'id_': 3, 'category': 'node', 'alias': 'qubit', 'nodes': [0, 2], 'frequency': 3451000000.0, 'qubit_idx': 0}]}, 'instruments': [{'name': 'QCM', 'id_': 0, 'category': 'awg', 'alias': 'QCM', 'firmware': '0.7.0', 'frequency': 1.0, 'num_sequencers': 1, 'gain': [1], 'epsilon': [0], 'delta': [0], 'offset_i': [0], 'offset_q': [0], 'multiplexing_frequencies': [100000000.0], 'sync_enabled': True, 'num_bins': 100}, {'name': 'QRM', 'id_': 1, 'category': 'awg', 'alias': 'QRM', 'firmware': '0.7.0', 'frequency': 20000000, 'num_sequencers': 1, 'gain': [0.5], 'epsilon': [0], 'delta': [0], 'offset_i': [0], 'offset_q': [0], 'multiplexing_frequencies': [20000000.0], 'acquisition_delay_time': 100, 'sync_enabled': True, 'num_bins': 100, 'scope_acquire_trigger_mode': 'sequencer', 'scope_hardware_averaging': True, 'sampling_rate': 1000000000, 'integration': True, 'integration_length': 2000, 'integration_mode': 'ssb', 'sequence_timeout': 1, 'acquisition_timeout': 1}, {'name': 'rohde_schwarz', 'id_': 0, 'category': 'signal_generator', 'alias': 'rs_0', 'firmware': '4.30.046.295', 'power': 15}, {'name': 'rohde_schwarz', 'id_': 1, 'category': 'signal_generator', 'alias': 'rs_1', 'firmware': '4.30.046.295', 'power': 15}, {'name': 'mini_circuits', 'id_': 1, 'category': 'attenuator', 'alias': 'attenuator', 'firmware': None, 'attenuation': 30}, {'name': 'keithley_2600', 'id_': 1, 'category': 'dc_source', 'alias': 'keithley_2600', 'firmware': None, 'max_current': 0.1, 'max_voltage': 20.0}], 'buses': [{'id_': 0, 'category': 'bus', 'subcategory': 'control', 'system_control': {'id_': 0, 'category': 'system_control', 'subcategory': 'mixer_based_system_control', 'awg': 'QCM', 'signal_generator': 'rs_0'}, 'port': 0}, {'id_': 0, 'category': 'bus', 'subcategory': 'readout', 'system_control': {'id_': 1, 'category': 'system_control', 'subcategory': 'mixer_based_system_control', 'awg': 'QRM', 'signal_generator': 'rs_1'}, 'attenuator': 'attenuator', 'port': 1}], 'instrument_controllers': [{'name': 'qblox_pulsar', 'id_': 0, 'alias': 'pulsar_controller_qcm_0', 'category': 'instrument_controller', 'subcategory': 'single_instrument', 'connection': {'name': 'tcp_ip', 'address': '192.168.0.3'}, 'modules': [{'awg': 'QCM', 'slot_id': 0}], 'reference_clock': 'internal'}, {'name': 'qblox_pulsar', 'id_': 1, 'alias': 'pulsar_controller_qrm_0', 'category': 'instrument_controller', 'subcategory': 'single_instrument', 'connection': {'name': 'tcp_ip', 'address': '192.168.0.4'}, 'modules': [{'awg': 'QRM', 'slot_id': 0}], 'reference_clock': 'external'}, {'name': 'rohde_schwarz', 'id_': 2, 'alias': 'rohde_schwarz_controller_0', 'category': 'instrument_controller', 'subcategory': 'single_instrument', 'connection': {'name': 'tcp_ip', 'address': '192.168.0.10'}, 'modules': [{'signal_generator': 'rs_0', 'slot_id': 0}]}, {'name': 'rohde_schwarz', 'id_': 3, 'alias': 'rohde_schwarz_controller_1', 'category': 'instrument_controller', 'subcategory': 'single_instrument', 'connection': {'name': 'tcp_ip', 'address': '192.168.0.7'}, 'modules': [{'signal_generator': 'rs_1', 'slot_id': 0}]}, {'name': 'mini_circuits', 'id_': 4, 'alias': 'attenuator_controller_0', 'category': 'instrument_controller', 'subcategory': 'single_instrument', 'connection': {'name': 'tcp_ip', 'address': '192.168.0.222'}, 'modules': [{'attenuator': 'attenuator', 'slot_id': 0}]}, {'name': 'keithley_2600', 'id_': 5, 'alias': 'keithley_2600_controller_0', 'category': 'instrument_controller', 'subcategory': 'single_instrument', 'connection': {'name': 'tcp_ip', 'address': '192.168.0.112'}, 'modules': [{'dc_source': 'keithley_2600', 'slot_id': 0}]}]}}, 'settings': {'hardware_average': 1024, 'software_average': 1, 'repetition_duration': 200000}, 'sequences': [{'elements': [{'timeline': [{'pulse': {'name': 'pulse', 'amplitude': 1.0, 'frequency': None, 'phase': 0.0, 'duration': 100, 'pulse_shape': {'name': 'drag', 'num_sigmas': 4, 'drag_coefficient': 0}}, 'start_time': 0}, {'pulse': {'name': 'pulse', 'amplitude': 1.0, 'frequency': None, 'phase': 1.5707963267948966, 'duration': 100, 'pulse_shape': {'name': 'drag', 'num_sigmas': 4, 'drag_coefficient': 0}}, 'start_time': 100}, {'pulse': {'name': 'pulse', 'amplitude': 0.6788726177728143, 'frequency': None, 'phase': 3.141592653589793, 'duration': 100, 'pulse_shape': {'name': 'drag', 'num_sigmas': 4, 'drag_coefficient': 0}}, 'start_time': 200}, {'pulse': {'name': 'pulse', 'amplitude': 0.7746482927568603, 'frequency': None, 'phase': 1.5707963267948966, 'duration': 100, 'pulse_shape': {'name': 'drag', 'num_sigmas': 4, 'drag_coefficient': 0}}, 'start_time': 300}, {'pulse': {'name': 'pulse', 'amplitude': 0.45633840657306957, 'frequency': None, 'phase': 6.150444078461241, 'duration': 100, 'pulse_shape': {'name': 'drag', 'num_sigmas': 4, 'drag_coefficient': 0}}, 'start_time': 400}], 'port': 0}, {'timeline': [{'pulse': {'name': 'readout_pulse', 'amplitude': 1, 'frequency': None, 'phase': 0, 'duration': 2000, 'pulse_shape': {'name': 'rectangular'}}, 'start_time': 580.0}], 'port': 1}]}], 'loops': [{'alias': None, 'instrument': 'signal_generator', 'id_': 0, 'parameter': 'frequency', 'start': 0, 'stop': 1, 'num': 2, 'step': None, 'loop': {'alias': 'platform', 'instrument': None, 'id_': None, 'parameter': 'delay_before_readout', 'start': 40, 'stop': 100, 'num': None, 'step': 40, 'loop': {'alias': None, 'instrument': 'awg', 'id_': 0, 'parameter': 'frequency', 'start': 0, 'stop': 1, 'num': 2, 'step': None, 'loop': None}}}], 'name': 'experiment'}, result=None)"
      ]
     },
     "execution_count": 5,
     "metadata": {},
     "output_type": "execute_result"
    }
   ],
   "source": [
    "# get experiment\n",
    "experiment_data = qibo_api.get_job(job_id=10320)\n",
    "experiment_data"
   ]
  },
  {
   "cell_type": "code",
   "execution_count": 6,
   "id": "0c6ef208",
   "metadata": {},
   "outputs": [
    {
     "data": {
      "text/plain": [
       "{'platform': {'settings': {'id_': 0,\n",
       "   'category': 'platform',\n",
       "   'alias': None,\n",
       "   'name': 'galadriel',\n",
       "   'delay_between_pulses': 0,\n",
       "   'delay_before_readout': 80.0,\n",
       "   'master_amplitude_gate': 1,\n",
       "   'master_duration_gate': 100,\n",
       "   'gates': [{'name': 'M',\n",
       "     'amplitude': 'master_amplitude_gate',\n",
       "     'phase': 0,\n",
       "     'duration': 2000,\n",
       "     'shape': {'name': 'rectangular'}},\n",
       "    {'name': 'I',\n",
       "     'amplitude': 0,\n",
       "     'phase': 0,\n",
       "     'duration': 0,\n",
       "     'shape': {'name': 'rectangular'}},\n",
       "    {'name': 'X',\n",
       "     'amplitude': 'master_amplitude_gate',\n",
       "     'phase': 0,\n",
       "     'duration': 'master_duration_gate',\n",
       "     'shape': {'name': 'drag', 'num_sigmas': 4, 'drag_coefficient': 0}},\n",
       "    {'name': 'Y',\n",
       "     'amplitude': 'master_amplitude_gate',\n",
       "     'phase': 1.5707963267948966,\n",
       "     'duration': 'master_duration_gate',\n",
       "     'shape': {'name': 'drag', 'num_sigmas': 4, 'drag_coefficient': 0}}]},\n",
       "  'schema': {'chip': {'id_': 0,\n",
       "    'category': 'chip',\n",
       "    'nodes': [{'name': 'port',\n",
       "      'id_': 0,\n",
       "      'category': 'node',\n",
       "      'alias': None,\n",
       "      'nodes': [3]},\n",
       "     {'name': 'port',\n",
       "      'id_': 1,\n",
       "      'category': 'node',\n",
       "      'alias': None,\n",
       "      'nodes': [2]},\n",
       "     {'name': 'resonator',\n",
       "      'id_': 2,\n",
       "      'category': 'node',\n",
       "      'alias': 'resonator',\n",
       "      'nodes': [1, 3],\n",
       "      'frequency': 7347300000.0},\n",
       "     {'name': 'qubit',\n",
       "      'id_': 3,\n",
       "      'category': 'node',\n",
       "      'alias': 'qubit',\n",
       "      'nodes': [0, 2],\n",
       "      'frequency': 3451000000.0,\n",
       "      'qubit_idx': 0}]},\n",
       "   'instruments': [{'name': 'QCM',\n",
       "     'id_': 0,\n",
       "     'category': 'awg',\n",
       "     'alias': 'QCM',\n",
       "     'firmware': '0.7.0',\n",
       "     'frequency': 1.0,\n",
       "     'num_sequencers': 1,\n",
       "     'gain': [1],\n",
       "     'epsilon': [0],\n",
       "     'delta': [0],\n",
       "     'offset_i': [0],\n",
       "     'offset_q': [0],\n",
       "     'multiplexing_frequencies': [100000000.0],\n",
       "     'sync_enabled': True,\n",
       "     'num_bins': 100},\n",
       "    {'name': 'QRM',\n",
       "     'id_': 1,\n",
       "     'category': 'awg',\n",
       "     'alias': 'QRM',\n",
       "     'firmware': '0.7.0',\n",
       "     'frequency': 20000000,\n",
       "     'num_sequencers': 1,\n",
       "     'gain': [0.5],\n",
       "     'epsilon': [0],\n",
       "     'delta': [0],\n",
       "     'offset_i': [0],\n",
       "     'offset_q': [0],\n",
       "     'multiplexing_frequencies': [20000000.0],\n",
       "     'acquisition_delay_time': 100,\n",
       "     'sync_enabled': True,\n",
       "     'num_bins': 100,\n",
       "     'scope_acquire_trigger_mode': 'sequencer',\n",
       "     'scope_hardware_averaging': True,\n",
       "     'sampling_rate': 1000000000,\n",
       "     'integration': True,\n",
       "     'integration_length': 2000,\n",
       "     'integration_mode': 'ssb',\n",
       "     'sequence_timeout': 1,\n",
       "     'acquisition_timeout': 1},\n",
       "    {'name': 'rohde_schwarz',\n",
       "     'id_': 0,\n",
       "     'category': 'signal_generator',\n",
       "     'alias': 'rs_0',\n",
       "     'firmware': '4.30.046.295',\n",
       "     'power': 15},\n",
       "    {'name': 'rohde_schwarz',\n",
       "     'id_': 1,\n",
       "     'category': 'signal_generator',\n",
       "     'alias': 'rs_1',\n",
       "     'firmware': '4.30.046.295',\n",
       "     'power': 15},\n",
       "    {'name': 'mini_circuits',\n",
       "     'id_': 1,\n",
       "     'category': 'attenuator',\n",
       "     'alias': 'attenuator',\n",
       "     'firmware': None,\n",
       "     'attenuation': 30},\n",
       "    {'name': 'keithley_2600',\n",
       "     'id_': 1,\n",
       "     'category': 'dc_source',\n",
       "     'alias': 'keithley_2600',\n",
       "     'firmware': None,\n",
       "     'max_current': 0.1,\n",
       "     'max_voltage': 20.0}],\n",
       "   'buses': [{'id_': 0,\n",
       "     'category': 'bus',\n",
       "     'subcategory': 'control',\n",
       "     'system_control': {'id_': 0,\n",
       "      'category': 'system_control',\n",
       "      'subcategory': 'mixer_based_system_control',\n",
       "      'awg': 'QCM',\n",
       "      'signal_generator': 'rs_0'},\n",
       "     'port': 0},\n",
       "    {'id_': 0,\n",
       "     'category': 'bus',\n",
       "     'subcategory': 'readout',\n",
       "     'system_control': {'id_': 1,\n",
       "      'category': 'system_control',\n",
       "      'subcategory': 'mixer_based_system_control',\n",
       "      'awg': 'QRM',\n",
       "      'signal_generator': 'rs_1'},\n",
       "     'attenuator': 'attenuator',\n",
       "     'port': 1}],\n",
       "   'instrument_controllers': [{'name': 'qblox_pulsar',\n",
       "     'id_': 0,\n",
       "     'alias': 'pulsar_controller_qcm_0',\n",
       "     'category': 'instrument_controller',\n",
       "     'subcategory': 'single_instrument',\n",
       "     'connection': {'name': 'tcp_ip', 'address': '192.168.0.3'},\n",
       "     'modules': [{'awg': 'QCM', 'slot_id': 0}],\n",
       "     'reference_clock': 'internal'},\n",
       "    {'name': 'qblox_pulsar',\n",
       "     'id_': 1,\n",
       "     'alias': 'pulsar_controller_qrm_0',\n",
       "     'category': 'instrument_controller',\n",
       "     'subcategory': 'single_instrument',\n",
       "     'connection': {'name': 'tcp_ip', 'address': '192.168.0.4'},\n",
       "     'modules': [{'awg': 'QRM', 'slot_id': 0}],\n",
       "     'reference_clock': 'external'},\n",
       "    {'name': 'rohde_schwarz',\n",
       "     'id_': 2,\n",
       "     'alias': 'rohde_schwarz_controller_0',\n",
       "     'category': 'instrument_controller',\n",
       "     'subcategory': 'single_instrument',\n",
       "     'connection': {'name': 'tcp_ip', 'address': '192.168.0.10'},\n",
       "     'modules': [{'signal_generator': 'rs_0', 'slot_id': 0}]},\n",
       "    {'name': 'rohde_schwarz',\n",
       "     'id_': 3,\n",
       "     'alias': 'rohde_schwarz_controller_1',\n",
       "     'category': 'instrument_controller',\n",
       "     'subcategory': 'single_instrument',\n",
       "     'connection': {'name': 'tcp_ip', 'address': '192.168.0.7'},\n",
       "     'modules': [{'signal_generator': 'rs_1', 'slot_id': 0}]},\n",
       "    {'name': 'mini_circuits',\n",
       "     'id_': 4,\n",
       "     'alias': 'attenuator_controller_0',\n",
       "     'category': 'instrument_controller',\n",
       "     'subcategory': 'single_instrument',\n",
       "     'connection': {'name': 'tcp_ip', 'address': '192.168.0.222'},\n",
       "     'modules': [{'attenuator': 'attenuator', 'slot_id': 0}]},\n",
       "    {'name': 'keithley_2600',\n",
       "     'id_': 5,\n",
       "     'alias': 'keithley_2600_controller_0',\n",
       "     'category': 'instrument_controller',\n",
       "     'subcategory': 'single_instrument',\n",
       "     'connection': {'name': 'tcp_ip', 'address': '192.168.0.112'},\n",
       "     'modules': [{'dc_source': 'keithley_2600', 'slot_id': 0}]}]}},\n",
       " 'settings': {'hardware_average': 1024,\n",
       "  'software_average': 1,\n",
       "  'repetition_duration': 200000},\n",
       " 'sequences': [{'elements': [{'timeline': [{'pulse': {'name': 'pulse',\n",
       "        'amplitude': 1.0,\n",
       "        'frequency': None,\n",
       "        'phase': 0.0,\n",
       "        'duration': 100,\n",
       "        'pulse_shape': {'name': 'drag',\n",
       "         'num_sigmas': 4,\n",
       "         'drag_coefficient': 0}},\n",
       "       'start_time': 0},\n",
       "      {'pulse': {'name': 'pulse',\n",
       "        'amplitude': 1.0,\n",
       "        'frequency': None,\n",
       "        'phase': 1.5707963267948966,\n",
       "        'duration': 100,\n",
       "        'pulse_shape': {'name': 'drag',\n",
       "         'num_sigmas': 4,\n",
       "         'drag_coefficient': 0}},\n",
       "       'start_time': 100},\n",
       "      {'pulse': {'name': 'pulse',\n",
       "        'amplitude': 0.6788726177728143,\n",
       "        'frequency': None,\n",
       "        'phase': 3.141592653589793,\n",
       "        'duration': 100,\n",
       "        'pulse_shape': {'name': 'drag',\n",
       "         'num_sigmas': 4,\n",
       "         'drag_coefficient': 0}},\n",
       "       'start_time': 200},\n",
       "      {'pulse': {'name': 'pulse',\n",
       "        'amplitude': 0.7746482927568603,\n",
       "        'frequency': None,\n",
       "        'phase': 1.5707963267948966,\n",
       "        'duration': 100,\n",
       "        'pulse_shape': {'name': 'drag',\n",
       "         'num_sigmas': 4,\n",
       "         'drag_coefficient': 0}},\n",
       "       'start_time': 300},\n",
       "      {'pulse': {'name': 'pulse',\n",
       "        'amplitude': 0.45633840657306957,\n",
       "        'frequency': None,\n",
       "        'phase': 6.150444078461241,\n",
       "        'duration': 100,\n",
       "        'pulse_shape': {'name': 'drag',\n",
       "         'num_sigmas': 4,\n",
       "         'drag_coefficient': 0}},\n",
       "       'start_time': 400}],\n",
       "     'port': 0},\n",
       "    {'timeline': [{'pulse': {'name': 'readout_pulse',\n",
       "        'amplitude': 1,\n",
       "        'frequency': None,\n",
       "        'phase': 0,\n",
       "        'duration': 2000,\n",
       "        'pulse_shape': {'name': 'rectangular'}},\n",
       "       'start_time': 580.0}],\n",
       "     'port': 1}]}],\n",
       " 'loops': [{'alias': None,\n",
       "   'instrument': 'signal_generator',\n",
       "   'id_': 0,\n",
       "   'parameter': 'frequency',\n",
       "   'start': 0,\n",
       "   'stop': 1,\n",
       "   'num': 2,\n",
       "   'step': None,\n",
       "   'loop': {'alias': 'platform',\n",
       "    'instrument': None,\n",
       "    'id_': None,\n",
       "    'parameter': 'delay_before_readout',\n",
       "    'start': 40,\n",
       "    'stop': 100,\n",
       "    'num': None,\n",
       "    'step': 40,\n",
       "    'loop': {'alias': None,\n",
       "     'instrument': 'awg',\n",
       "     'id_': 0,\n",
       "     'parameter': 'frequency',\n",
       "     'start': 0,\n",
       "     'stop': 1,\n",
       "     'num': 2,\n",
       "     'step': None,\n",
       "     'loop': None}}}],\n",
       " 'name': 'experiment'}"
      ]
     },
     "execution_count": 6,
     "metadata": {},
     "output_type": "execute_result"
    }
   ],
   "source": [
    "experiment_data.description"
   ]
  },
  {
   "cell_type": "code",
   "execution_count": 8,
   "id": "bf8a6450",
   "metadata": {},
   "outputs": [
    {
     "name": "stderr",
     "output_type": "stream",
     "text": [
      "[qibo-connection] 0.11.0|ERROR|2023-07-03 11:09:32]: Your job with id 10323 failed.\n"
     ]
    },
    {
     "data": {
      "text/plain": [
       "JobData(status='error', queue_position=0, user_id=3, device_id=9, job_id=10323, job_type='circuit', number_shots=10, description=<qibo.models.circuit.Circuit object at 0x7f40e47bf350>, result=None)"
      ]
     },
     "execution_count": 8,
     "metadata": {},
     "output_type": "execute_result"
    }
   ],
   "source": [
    "# get circuit\n",
    "circuit_data = qibo_api.get_job(job_id=10323)\n",
    "circuit_data"
   ]
  },
  {
   "cell_type": "code",
   "execution_count": 18,
   "id": "bdf14d86",
   "metadata": {},
   "outputs": [
    {
     "data": {
      "text/plain": [
       "'q0: ─H─M─'"
      ]
     },
     "execution_count": 18,
     "metadata": {},
     "output_type": "execute_result"
    }
   ],
   "source": [
    "circuit_data.description.draw()"
   ]
  },
  {
   "attachments": {},
   "cell_type": "markdown",
   "id": "e854e61c-edb2-408b-bbe1-c5041c0a4231",
   "metadata": {},
   "source": [
    "## Load an already existing connection to the Qilimanjaro Service API"
   ]
  },
  {
   "cell_type": "code",
   "execution_count": null,
   "id": "20731b2c-1b41-4e4e-9762-f4c28cd4a491",
   "metadata": {},
   "outputs": [],
   "source": [
    "qibo_api = API()"
   ]
  },
  {
   "attachments": {},
   "cell_type": "markdown",
   "id": "0bdc2623-3724-4fdc-8189-728065886cf2",
   "metadata": {},
   "source": [
    "## Check a connection is alive"
   ]
  },
  {
   "cell_type": "code",
   "execution_count": null,
   "id": "23341ebc-7cc3-4a7c-a601-62d5e2d17e42",
   "metadata": {},
   "outputs": [
    {
     "data": {
      "text/plain": [
       "'OK'"
      ]
     },
     "execution_count": 3,
     "metadata": {},
     "output_type": "execute_result"
    }
   ],
   "source": [
    "qibo_api.ping()"
   ]
  },
  {
   "attachments": {},
   "cell_type": "markdown",
   "id": "16dc6ee9-d95c-4e39-8255-7b818b81d92b",
   "metadata": {},
   "source": [
    "## List all registered devices"
   ]
  },
  {
   "cell_type": "code",
   "execution_count": null,
   "id": "6e86addd-2e05-4236-a39e-7c59e00bac38",
   "metadata": {},
   "outputs": [
    {
     "data": {
      "text/plain": [
       "<Devices[3]:\n",
       "{\n",
       "  \"device_id\": 1,\n",
       "  \"device_name\": \"dev_sim\",\n",
       "  \"status\": \"online\",\n",
       "  \"availability\": \"available\",\n",
       "  \"characteristics\": {\n",
       "    \"type\": \"simulator\",\n",
       "    \"cpu\": null,\n",
       "    \"gpu\": null,\n",
       "    \"os\": null,\n",
       "    \"kernel\": null,\n",
       "    \"ram\": null\n",
       "  }\n",
       "}\n",
       "{\n",
       "  \"device_id\": 9,\n",
       "  \"device_name\": \"dev_quan\",\n",
       "  \"status\": \"online\",\n",
       "  \"availability\": \"available\",\n",
       "  \"characteristics\": {\n",
       "    \"type\": \"quantum\"\n",
       "  },\n",
       "  \"calibration_details\": {\n",
       "    \"t1\": 10,\n",
       "    \"frequency\": 988\n",
       "  }\n",
       "}\n",
       "{\n",
       "  \"device_id\": 10,\n",
       "  \"device_name\": \"offline\",\n",
       "  \"status\": \"offline\",\n",
       "  \"availability\": \"available\"\n",
       "}"
      ]
     },
     "execution_count": 34,
     "metadata": {},
     "output_type": "execute_result"
    }
   ],
   "source": [
    "devices = qibo_api.list_devices()\n",
    "devices"
   ]
  },
  {
   "attachments": {},
   "cell_type": "markdown",
   "id": "309ed987-5898-4d53-a7df-e641322ecf97",
   "metadata": {},
   "source": [
    "## Selecting a specific device"
   ]
  },
  {
   "cell_type": "code",
   "execution_count": null,
   "id": "8b64be68-a32b-4d85-8301-5f07b5d998c9",
   "metadata": {},
   "outputs": [
    {
     "name": "stderr",
     "output_type": "stream",
     "text": [
      "[qibo-connection] 0.10.0|INFO|2023-05-31 11:28:49]: Device dev_quan selected.\n"
     ]
    }
   ],
   "source": [
    "qibo_api.select_device_id(device_id=9)"
   ]
  },
  {
   "attachments": {},
   "cell_type": "markdown",
   "id": "b36b4d0f-a7dc-4ca6-bf9d-bd526c793ee2",
   "metadata": {},
   "source": [
    "## Creating an experiment to be executed on a remote device"
   ]
  },
  {
   "cell_type": "code",
   "execution_count": null,
   "id": "22ff3c9e-129f-49c4-8021-6a6cb03dfef5",
   "metadata": {},
   "outputs": [
    {
     "name": "stderr",
     "output_type": "stream",
     "text": [
      "[Qibo 0.1.12.dev0|INFO|2023-05-31 11:28:25]: Using numpy backend on /CPU:0\n"
     ]
    }
   ],
   "source": [
    "qibo.set_backend(\"numpy\")"
   ]
  },
  {
   "cell_type": "code",
   "execution_count": null,
   "id": "3c60dad0-026e-43bd-b809-c3067b533912",
   "metadata": {},
   "outputs": [
    {
     "data": {
      "text/plain": [
       "MeasurementResult(qubits=(0,), nshots=0)"
      ]
     },
     "execution_count": 29,
     "metadata": {},
     "output_type": "execute_result"
    }
   ],
   "source": [
    "circuit = Circuit(1)\n",
    "circuit.add(gates.H(0))\n",
    "circuit.add(gates.M(0))"
   ]
  },
  {
   "attachments": {},
   "cell_type": "markdown",
   "id": "83b48b1f-a8a5-480c-a21a-ae2f246d245c",
   "metadata": {},
   "source": [
    "## Remote execution and getting a job identifier"
   ]
  },
  {
   "cell_type": "code",
   "execution_count": null,
   "id": "883ccfe8-cbb5-4372-b6fd-97365b46e4db",
   "metadata": {},
   "outputs": [],
   "source": [
    "job_id = qibo_api.execute(circuit=circuit)"
   ]
  },
  {
   "cell_type": "code",
   "execution_count": null,
   "id": "0177419a-08f7-4931-affb-68276dcc5344",
   "metadata": {},
   "outputs": [
    {
     "data": {
      "text/plain": [
       "[5420]"
      ]
     },
     "execution_count": 36,
     "metadata": {},
     "output_type": "execute_result"
    }
   ],
   "source": [
    "job_id"
   ]
  },
  {
   "attachments": {},
   "cell_type": "markdown",
   "id": "1f717739-aec1-4c6d-a4c0-39d89846b38d",
   "metadata": {},
   "source": [
    "## User retrieves the Qibo result, but it is still pending"
   ]
  },
  {
   "cell_type": "code",
   "execution_count": null,
   "id": "fbb59635-adc5-42af-9871-25e669a42f05",
   "metadata": {},
   "outputs": [
    {
     "name": "stderr",
     "output_type": "stream",
     "text": [
      "[qibo-connection] 0.10.0|ERROR|2023-05-31 11:29:04]: Your job with id 5420 failed.\n"
     ]
    }
   ],
   "source": [
    "result = qibo_api.get_result(job_id=job_id[0])"
   ]
  },
  {
   "attachments": {},
   "cell_type": "markdown",
   "id": "e97356d5-ebae-481e-9200-61e1e7bfb65e",
   "metadata": {},
   "source": [
    "## When job is executed remotely, a user can retrieve the actual result"
   ]
  },
  {
   "cell_type": "code",
   "execution_count": null,
   "id": "9a6ad8da-a60e-4295-b82c-e78a8df29a1a",
   "metadata": {},
   "outputs": [
    {
     "ename": "TypeError",
     "evalue": "type of argument \"job_id\" must be int; got list instead",
     "output_type": "error",
     "traceback": [
      "\u001b[0;31m---------------------------------------------------------------------------\u001b[0m",
      "\u001b[0;31mTypeError\u001b[0m                                 Traceback (most recent call last)",
      "\u001b[1;32m/home/givd/qiboconnection/examples/user_example.ipynb Celda 21\u001b[0m in \u001b[0;36m<cell line: 0>\u001b[0;34m()\u001b[0m\n\u001b[1;32m      <a href='vscode-notebook-cell:/home/givd/qiboconnection/examples/user_example.ipynb#X26sZmlsZQ%3D%3D?line=0'>1</a>\u001b[0m sleep(\u001b[39m1\u001b[39m)\n\u001b[0;32m----> <a href='vscode-notebook-cell:/home/givd/qiboconnection/examples/user_example.ipynb#X26sZmlsZQ%3D%3D?line=1'>2</a>\u001b[0m result \u001b[39m=\u001b[39m qibo_api\u001b[39m.\u001b[39;49mget_result(job_id\u001b[39m=\u001b[39;49mjob_id)\n",
      "File \u001b[0;32m~/miniconda3/envs/qghqs/lib/python3.11/site-packages/typeguard/__init__.py:1032\u001b[0m, in \u001b[0;36mtypechecked.<locals>.wrapper\u001b[0;34m(*args, **kwargs)\u001b[0m\n\u001b[1;32m   1030\u001b[0m \u001b[39mdef\u001b[39;00m \u001b[39mwrapper\u001b[39m(\u001b[39m*\u001b[39margs, \u001b[39m*\u001b[39m\u001b[39m*\u001b[39mkwargs):\n\u001b[1;32m   1031\u001b[0m     memo \u001b[39m=\u001b[39m _CallMemo(python_func, _localns, args\u001b[39m=\u001b[39margs, kwargs\u001b[39m=\u001b[39mkwargs)\n\u001b[0;32m-> 1032\u001b[0m     check_argument_types(memo)\n\u001b[1;32m   1033\u001b[0m     retval \u001b[39m=\u001b[39m func(\u001b[39m*\u001b[39margs, \u001b[39m*\u001b[39m\u001b[39m*\u001b[39mkwargs)\n\u001b[1;32m   1034\u001b[0m     \u001b[39mtry\u001b[39;00m:\n",
      "File \u001b[0;32m~/miniconda3/envs/qghqs/lib/python3.11/site-packages/typeguard/__init__.py:875\u001b[0m, in \u001b[0;36mcheck_argument_types\u001b[0;34m(memo)\u001b[0m\n\u001b[1;32m    873\u001b[0m             check_type(description, value, expected_type, memo)\n\u001b[1;32m    874\u001b[0m         \u001b[39mexcept\u001b[39;00m \u001b[39mTypeError\u001b[39;00m \u001b[39mas\u001b[39;00m exc:  \u001b[39m# suppress unnecessarily long tracebacks\u001b[39;00m\n\u001b[0;32m--> 875\u001b[0m             \u001b[39mraise\u001b[39;00m \u001b[39mTypeError\u001b[39;00m(\u001b[39m*\u001b[39mexc\u001b[39m.\u001b[39margs) \u001b[39mfrom\u001b[39;00m \u001b[39mNone\u001b[39;00m\n\u001b[1;32m    877\u001b[0m \u001b[39mreturn\u001b[39;00m \u001b[39mTrue\u001b[39;00m\n",
      "\u001b[0;31mTypeError\u001b[0m: type of argument \"job_id\" must be int; got list instead"
     ]
    }
   ],
   "source": [
    "sleep(1)\n",
    "result = qibo_api.get_result(job_id=job_id)"
   ]
  },
  {
   "cell_type": "code",
   "execution_count": null,
   "id": "502c9d41-9d5a-476a-9f06-36beda937238",
   "metadata": {},
   "outputs": [
    {
     "ename": "AttributeError",
     "evalue": "'NoneType' object has no attribute 'state'",
     "output_type": "error",
     "traceback": [
      "\u001b[0;31m---------------------------------------------------------------------------\u001b[0m",
      "\u001b[0;31mAttributeError\u001b[0m                            Traceback (most recent call last)",
      "\u001b[1;32m/home/givd/qiboconnection/examples/user_example.ipynb Celda 22\u001b[0m in \u001b[0;36m<cell line: 0>\u001b[0;34m()\u001b[0m\n\u001b[0;32m----> <a href='vscode-notebook-cell:/home/givd/qiboconnection/examples/user_example.ipynb#X30sZmlsZQ%3D%3D?line=0'>1</a>\u001b[0m result\u001b[39m.\u001b[39;49mstate()\n",
      "\u001b[0;31mAttributeError\u001b[0m: 'NoneType' object has no attribute 'state'"
     ]
    }
   ],
   "source": [
    "result.state()"
   ]
  },
  {
   "cell_type": "code",
   "execution_count": null,
   "id": "2b4735c0-3e3d-4c21-99fb-5fdd1d4f69e5",
   "metadata": {},
   "outputs": [],
   "source": [
    "result.frequencies(binary=True, registers=True)"
   ]
  },
  {
   "cell_type": "code",
   "execution_count": null,
   "id": "74249196-9646-4c0f-8170-7980387aee43",
   "metadata": {},
   "outputs": [],
   "source": [
    "circuit.draw()"
   ]
  },
  {
   "cell_type": "code",
   "execution_count": null,
   "id": "fb7df860-7eb1-49c4-941f-8370f0b4f8bc",
   "metadata": {},
   "outputs": [],
   "source": [
    "qibo_api.release_device(device_id=9)"
   ]
  },
  {
   "cell_type": "code",
   "execution_count": null,
   "id": "de047df2-c5d2-4334-9e7a-91b0a361e0db",
   "metadata": {},
   "outputs": [],
   "source": [
    "devices._devices[0].id"
   ]
  },
  {
   "attachments": {},
   "cell_type": "markdown",
   "id": "2e2fd8bb-6e8d-4f20-bf74-624e4ad84daf",
   "metadata": {},
   "source": [
    "## Block and release a remote device to operate on it"
   ]
  },
  {
   "cell_type": "code",
   "execution_count": null,
   "id": "69472562-612b-47b2-9c0b-70f4d6e1668b",
   "metadata": {},
   "outputs": [],
   "source": [
    "qibo_api.block_device_id(device_id=1)\n",
    "\n",
    "# Do stuff with the device, knowing no one else will access it\n",
    "\n",
    "qibo_api.release_device(device_id=1)"
   ]
  },
  {
   "attachments": {},
   "cell_type": "markdown",
   "id": "50e7f219-31ae-4a52-bdd2-c36bd7b23285",
   "metadata": {},
   "source": [
    "## Trying to block a blocked device will raise an exception"
   ]
  },
  {
   "cell_type": "code",
   "execution_count": null,
   "id": "4676b922-8a23-44e0-a882-6510516a1c62",
   "metadata": {},
   "outputs": [],
   "source": [
    "with contextlib.suppress(Exception):\n",
    "    qibo_api.block_device_id(device_id=1)\n",
    "    qibo_api.block_device_id(device_id=1)\n",
    "\n",
    "qibo_api.release_device(device_id=1)"
   ]
  },
  {
   "cell_type": "code",
   "execution_count": null,
   "id": "e794b0ba",
   "metadata": {},
   "outputs": [
    {
     "name": "stderr",
     "output_type": "stream",
     "text": [
      "[qibo-connection] 0.9.0|WARNING|2023-06-02 10:52:37]: Your job with id 5685 is completed.\n"
     ]
    }
   ],
   "source": [
    "response = qibo_api.get_job(5685)"
   ]
  },
  {
   "cell_type": "code",
   "execution_count": null,
   "id": "d21abeaf",
   "metadata": {},
   "outputs": [
    {
     "data": {
      "text/plain": [
       "{'user_id': 3,\n",
       " 'device_id': 1,\n",
       " 'number_shots': 10,\n",
       " 'job_type': 'circuit',\n",
       " 'queue_position': 0,\n",
       " 'status': 'completed',\n",
       " 'state': array([0.70710678+0.j, 0.70710678+0.j]),\n",
       " 'probabilities': array([0.5, 0.5]),\n",
       " 'frequencies': Counter({'0': 5, '1': 5})}"
      ]
     },
     "execution_count": 20,
     "metadata": {},
     "output_type": "execute_result"
    }
   ],
   "source": [
    "response"
   ]
  },
  {
   "attachments": {},
   "cell_type": "markdown",
   "id": "cac732ed",
   "metadata": {},
   "source": [
    "response"
   ]
  }
 ],
 "metadata": {
  "kernelspec": {
   "display_name": "qililab",
   "language": "python",
   "name": "python3"
  },
  "language_info": {
   "codemirror_mode": {
    "name": "ipython",
    "version": 3
   },
   "file_extension": ".py",
   "mimetype": "text/x-python",
   "name": "python",
   "nbconvert_exporter": "python",
   "pygments_lexer": "ipython3",
   "version": "3.11.3"
  },
  "vscode": {
   "interpreter": {
    "hash": "121809f944b81f1847d4ffb8cf36b8f2cd17716ab162240359f9a9bc9250f6c8"
   }
  }
 },
 "nbformat": 4,
 "nbformat_minor": 5
}
