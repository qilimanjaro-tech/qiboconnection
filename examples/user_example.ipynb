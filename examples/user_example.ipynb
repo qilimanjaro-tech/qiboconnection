{
 "cells": [
  {
   "cell_type": "code",
   "execution_count": 1,
   "metadata": {},
   "outputs": [
    {
     "name": "stdout",
     "output_type": "stream",
     "text": [
      "env: QIBO_ENVIRONMENT=staging\n"
     ]
    }
   ],
   "source": [
    "%env QIBO_ENVIRONMENT = staging"
   ]
  },
  {
   "cell_type": "code",
   "execution_count": 1,
   "metadata": {},
   "outputs": [
    {
     "name": "stderr",
     "output_type": "stream",
     "text": [
      "[qibo-connection] 0.0.1|DEBUG|2022-01-28 16:30:47]: Qibo Quantum Service API SERVER URL: https://qilimanjaro.ddns.net:8080\n",
      "[Qibo 0.1.6|INFO|2022-01-28 16:30:47]: Using numpy backend on /CPU:0\n",
      "[Qibo 0.1.6|WARNING|2022-01-28 16:30:47]: numpy backend uses `np.einsum` and supports CPU only. Consider installing the qibojit or qibotf backends for increased performance and to enable GPU acceleration.\n"
     ]
    }
   ],
   "source": [
    "from qiboconnection.connection import ConnectionConfiguration\n",
    "from qiboconnection.api import API"
   ]
  },
  {
   "cell_type": "markdown",
   "metadata": {},
   "source": [
    "## Connect to the Qibo Service API"
   ]
  },
  {
   "cell_type": "code",
   "execution_count": 8,
   "metadata": {},
   "outputs": [
    {
     "name": "stderr",
     "output_type": "stream",
     "text": [
      "[qibo-connection] 0.0.1|DEBUG|2022-01-28 16:50:01]: Calling: https://qilimanjaro.ddns.net:8080/api/v1/authorisation-tokens\n",
      "[qibo-connection] 0.0.1|DEBUG|2022-01-28 16:50:01]: Connection successfully established.\n",
      "[qibo-connection] 0.0.1|INFO|2022-01-28 16:50:01]: Storing personal qibo configuration...\n"
     ]
    }
   ],
   "source": [
    "qibo_api = API(configuration=ConnectionConfiguration({\n",
    "      \"user_id\": 4,\n",
    "      \"username\": \"albert.solana\",\n",
    "      \"api_key\": \"c3672747-2ea5-4451-8005-1f4f6588fa78\",\n",
    "}))\n"
   ]
  },
  {
   "cell_type": "markdown",
   "metadata": {},
   "source": [
    "## Load an already existing connection to the Qilimanjaro Service API"
   ]
  },
  {
   "cell_type": "code",
   "execution_count": 2,
   "metadata": {},
   "outputs": [
    {
     "name": "stderr",
     "output_type": "stream",
     "text": [
      "[qibo-connection] 0.0.1|DEBUG|2022-01-28 16:30:49]: Configuration loaded successfully.\n"
     ]
    }
   ],
   "source": [
    "qibo_api = API()\n"
   ]
  },
  {
   "cell_type": "markdown",
   "metadata": {},
   "source": [
    "## Checking if the connection is alive"
   ]
  },
  {
   "cell_type": "code",
   "execution_count": 9,
   "metadata": {},
   "outputs": [
    {
     "name": "stderr",
     "output_type": "stream",
     "text": [
      "[qibo-connection] 0.0.1|DEBUG|2022-01-28 16:50:04]: Calling: https://qilimanjaro.ddns.net:8080/status\n"
     ]
    },
    {
     "data": {
      "text/plain": [
       "'OK'"
      ]
     },
     "execution_count": 9,
     "metadata": {},
     "output_type": "execute_result"
    }
   ],
   "source": [
    "qibo_api.ping()\n"
   ]
  },
  {
   "cell_type": "markdown",
   "metadata": {},
   "source": [
    "## Listing all registered devices"
   ]
  },
  {
   "cell_type": "code",
   "execution_count": 10,
   "metadata": {},
   "outputs": [
    {
     "name": "stderr",
     "output_type": "stream",
     "text": [
      "[qibo-connection] 0.0.1|DEBUG|2022-01-28 16:50:08]: Calling: https://qilimanjaro.ddns.net:8080/api/v1/devices\n"
     ]
    }
   ],
   "source": [
    "devices = qibo_api.list_devices()\n"
   ]
  },
  {
   "cell_type": "code",
   "execution_count": 6,
   "metadata": {},
   "outputs": [
    {
     "data": {
      "text/plain": [
       "<Devices[2]:\n",
       "{\n",
       "  \"device_id\": 1,\n",
       "  \"device_name\": \"radagast-simulator\",\n",
       "  \"status\": \"online\",\n",
       "  \"characteristics\": {\n",
       "    \"type\": \"simulator\",\n",
       "    \"cpu\": \"Intel Core i9-9900K @ 16x 5GHz\",\n",
       "    \"gpu\": \"NVIDIA GeForce RTX 3090\",\n",
       "    \"os\": \"Ubuntu 20.04 focal\",\n",
       "    \"kernel\": \"x86_64 Linux 5.4.0-80-generic\",\n",
       "    \"ram\": \"64185MiB\"\n",
       "  }\n",
       "}\n",
       "{\n",
       "  \"device_id\": 7,\n",
       "  \"device_name\": \"galadriel-quantum\",\n",
       "  \"status\": \"online\",\n",
       "  \"characteristics\": {\n",
       "    \"type\": \"quantum\"\n",
       "  },\n",
       "  \"calibration_details\": {\n",
       "    \"t1\": 13,\n",
       "    \"frequency\": 988\n",
       "  }\n",
       "}"
      ]
     },
     "execution_count": 6,
     "metadata": {},
     "output_type": "execute_result"
    }
   ],
   "source": [
    "devices"
   ]
  },
  {
   "cell_type": "markdown",
   "metadata": {},
   "source": [
    "## Selecting a specific device"
   ]
  },
  {
   "cell_type": "code",
   "execution_count": 11,
   "metadata": {},
   "outputs": [
    {
     "name": "stderr",
     "output_type": "stream",
     "text": [
      "[qibo-connection] 0.0.1|INFO|2022-01-28 16:50:18]: Device galadriel-quantum blocked.\n",
      "[qibo-connection] 0.0.1|DEBUG|2022-01-28 16:50:18]: Calling: https://qilimanjaro.ddns.net:8080/api/v1/users/4\n",
      "[qibo-connection] 0.0.1|DEBUG|2022-01-28 16:50:19]: Calling: https://qilimanjaro.ddns.net:8080/api/v1/messages?channel=1\n",
      "[qibo-connection] 0.0.1|INFO|2022-01-28 16:50:19]: Device galadriel-quantum selected.\n"
     ]
    }
   ],
   "source": [
    "qibo_api.select_device_id(device_id=7)\n"
   ]
  },
  {
   "cell_type": "markdown",
   "metadata": {},
   "source": [
    "## Creating an experiment to be executed on a remote device"
   ]
  },
  {
   "cell_type": "code",
   "execution_count": 12,
   "metadata": {},
   "outputs": [],
   "source": [
    "from qibo import gates\n",
    "from qibo.core.circuit import Circuit"
   ]
  },
  {
   "cell_type": "code",
   "execution_count": 13,
   "metadata": {},
   "outputs": [],
   "source": [
    "circuit = Circuit(1)\n",
    "circuit.add(gates.X(0))\n",
    "circuit.add(gates.M(0))\n"
   ]
  },
  {
   "cell_type": "code",
   "execution_count": 14,
   "metadata": {},
   "outputs": [
    {
     "name": "stderr",
     "output_type": "stream",
     "text": [
      "[qibo-connection] 0.0.1|DEBUG|2022-01-28 16:50:32]: Sending qibo circuit for a remote execution...\n",
      "[qibo-connection] 0.0.1|DEBUG|2022-01-28 16:50:32]: Calling: https://qilimanjaro.ddns.net:8080/api/v1/circuits\n",
      "[qibo-connection] 0.0.1|DEBUG|2022-01-28 16:50:33]: Job circuit queued successfully.\n"
     ]
    }
   ],
   "source": [
    "job_id = qibo_api.execute(circuit=circuit)"
   ]
  },
  {
   "cell_type": "code",
   "execution_count": 15,
   "metadata": {},
   "outputs": [
    {
     "data": {
      "text/plain": [
       "2261"
      ]
     },
     "execution_count": 15,
     "metadata": {},
     "output_type": "execute_result"
    }
   ],
   "source": [
    "job_id"
   ]
  },
  {
   "cell_type": "code",
   "execution_count": 16,
   "metadata": {},
   "outputs": [
    {
     "name": "stderr",
     "output_type": "stream",
     "text": [
      "[qibo-connection] 0.0.1|DEBUG|2022-01-28 16:50:38]: Calling: https://qilimanjaro.ddns.net:8080/api/v1/jobs/2261\n",
      "[qibo-connection] 0.0.1|INFO|2022-01-28 16:50:38]: Your job is completed.\n"
     ]
    }
   ],
   "source": [
    "result = qibo_api.get_result(job_id=job_id)\n"
   ]
  },
  {
   "cell_type": "code",
   "execution_count": 18,
   "metadata": {},
   "outputs": [
    {
     "data": {
      "text/plain": [
       "array([0.+0.j, 1.+0.j])"
      ]
     },
     "execution_count": 18,
     "metadata": {},
     "output_type": "execute_result"
    }
   ],
   "source": [
    "result.state()"
   ]
  },
  {
   "cell_type": "code",
   "execution_count": 19,
   "metadata": {},
   "outputs": [
    {
     "data": {
      "text/plain": [
       "array([[1],\n",
       "       [1],\n",
       "       [1],\n",
       "       [1],\n",
       "       [1],\n",
       "       [1],\n",
       "       [1],\n",
       "       [1],\n",
       "       [1],\n",
       "       [1]])"
      ]
     },
     "execution_count": 19,
     "metadata": {},
     "output_type": "execute_result"
    }
   ],
   "source": [
    "result.samples()"
   ]
  },
  {
   "cell_type": "code",
   "execution_count": 20,
   "metadata": {},
   "outputs": [
    {
     "name": "stderr",
     "output_type": "stream",
     "text": [
      "[qibo-connection] 0.0.1|INFO|2022-01-28 16:52:25]: Device galadriel-quantum released.\n",
      "[qibo-connection] 0.0.1|DEBUG|2022-01-28 16:52:25]: Calling: https://qilimanjaro.ddns.net:8080/api/v1/messages?channel=1\n"
     ]
    }
   ],
   "source": [
    "qibo_api.release_device(device_id=7)"
   ]
  },
  {
   "cell_type": "code",
   "execution_count": null,
   "metadata": {},
   "outputs": [],
   "source": []
  }
 ],
 "metadata": {
  "interpreter": {
   "hash": "a0f17d9b07be0d5a5d2307a8e1bb0bcd9e844c01675a3ee4cbcec03de6fcf469"
  },
  "kernelspec": {
   "display_name": "Python 3 (ipykernel)",
   "language": "python",
   "name": "python3"
  },
  "language_info": {
   "codemirror_mode": {
    "name": "ipython",
    "version": 3
   },
   "file_extension": ".py",
   "mimetype": "text/x-python",
   "name": "python",
   "nbconvert_exporter": "python",
   "pygments_lexer": "ipython3",
   "version": "3.9.6"
  }
 },
 "nbformat": 4,
 "nbformat_minor": 2
}
