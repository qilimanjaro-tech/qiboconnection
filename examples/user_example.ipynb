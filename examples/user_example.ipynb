{
 "cells": [
  {
   "cell_type": "code",
   "execution_count": 1,
   "metadata": {},
   "outputs": [
    {
     "name": "stdout",
     "output_type": "stream",
     "text": [
      "env: QIBO_ENVIRONMENT=local\n"
     ]
    }
   ],
   "source": [
    "%env QIBO_ENVIRONMENT=local"
   ]
  },
  {
   "cell_type": "code",
   "execution_count": 2,
   "metadata": {},
   "outputs": [
    {
     "name": "stderr",
     "output_type": "stream",
     "text": [
      "[qibo-connection] 0.0.1|DEBUG|2021-12-13 14:52:21]: Qibo Quantum Service API SERVER URL: http://localhost:8080\n"
     ]
    }
   ],
   "source": [
    "from qiboconnection.connection import ConnectionConfiguration\n",
    "from qiboconnection.api import API\n",
    "from qiboconnection.typings.algorithm import (\n",
    "    AlgorithmType, InitialValue, ProgramDefinition, AlgorithmDefinition, AlgorithmOptions, AlgorithmName)\n"
   ]
  },
  {
   "cell_type": "markdown",
   "metadata": {},
   "source": [
    "## Connect to the Qibo Service API"
   ]
  },
  {
   "cell_type": "code",
   "execution_count": 3,
   "metadata": {},
   "outputs": [
    {
     "name": "stderr",
     "output_type": "stream",
     "text": [
      "[qibo-connection] 0.0.1|DEBUG|2021-12-13 14:52:24]: Connection successfully established.\n",
      "[qibo-connection] 0.0.1|INFO|2021-12-13 14:52:24]: Storing personal qibo configuration...\n"
     ]
    }
   ],
   "source": [
    "qibo_api = API(configuration=ConnectionConfiguration({\n",
    "      \"user_id\": 4,\n",
    "      \"username\": \"qili-test-1\",\n",
    "      \"api_key\": \"1e64261c-4e51-440b-8ae2-74eb36255a4b\",\n",
    "}))\n"
   ]
  },
  {
   "cell_type": "markdown",
   "metadata": {},
   "source": [
    "## Load an already existing connection to the Qilimanjaro Service API"
   ]
  },
  {
   "cell_type": "code",
   "execution_count": 4,
   "metadata": {},
   "outputs": [
    {
     "name": "stderr",
     "output_type": "stream",
     "text": [
      "[qibo-connection] 0.0.1|DEBUG|2021-12-13 15:05:17]: Configuration loaded successfully.\n"
     ]
    }
   ],
   "source": [
    "qili_api = API()"
   ]
  },
  {
   "cell_type": "markdown",
   "metadata": {},
   "source": [
    "## Checking if the connection is alive"
   ]
  },
  {
   "cell_type": "code",
   "execution_count": 5,
   "metadata": {},
   "outputs": [
    {
     "name": "stderr",
     "output_type": "stream",
     "text": [
      "[qibo-connection] 0.0.1|DEBUG|2021-12-13 15:05:20]: Calling: http://localhost:8080/status\n"
     ]
    },
    {
     "data": {
      "text/plain": [
       "'OK'"
      ]
     },
     "execution_count": 5,
     "metadata": {},
     "output_type": "execute_result"
    }
   ],
   "source": [
    "qili_api.ping()"
   ]
  },
  {
   "cell_type": "markdown",
   "metadata": {},
   "source": [
    "## Listing all registered devices"
   ]
  },
  {
   "cell_type": "code",
   "execution_count": 6,
   "metadata": {},
   "outputs": [
    {
     "name": "stderr",
     "output_type": "stream",
     "text": [
      "[qibo-connection] 0.0.1|DEBUG|2021-12-13 15:05:23]: Calling: http://localhost:8080/api/v1/devices\n"
     ]
    }
   ],
   "source": [
    "devices = qili_api.list_devices()"
   ]
  },
  {
   "cell_type": "code",
   "execution_count": 6,
   "metadata": {},
   "outputs": [
    {
     "data": {
      "text/plain": [
       "<Devices[2]:\n",
       "{\n",
       "  \"device_id\": 1,\n",
       "  \"device_name\": \"radagast-simulator\",\n",
       "  \"status\": \"online\",\n",
       "  \"characteristics\": {\n",
       "    \"type\": \"simulator\",\n",
       "    \"cpu\": \"Intel Core i9-9900K @ 16x 5GHz\",\n",
       "    \"gpu\": \"NVIDIA GeForce RTX 3090\",\n",
       "    \"os\": \"Ubuntu 20.04 focal\",\n",
       "    \"kernel\": \"x86_64 Linux 5.4.0-80-generic\",\n",
       "    \"ram\": \"64185MiB\"\n",
       "  }\n",
       "}\n",
       "{\n",
       "  \"device_id\": 2,\n",
       "  \"device_name\": \"galadriel-quantum\",\n",
       "  \"status\": \"online\",\n",
       "  \"last_calibration_time\": \"Tue, 21 Sep 2021 07:58:57 GMT\",\n",
       "  \"characteristics\": {\n",
       "    \"type\": \"quantum\"\n",
       "  },\n",
       "  \"calibration_details\": {\n",
       "    \"elapsed_time\": 123,\n",
       "    \"t1\": 12,\n",
       "    \"frequency\": 988\n",
       "  }\n",
       "}"
      ]
     },
     "execution_count": 6,
     "metadata": {},
     "output_type": "execute_result"
    }
   ],
   "source": [
    "devices"
   ]
  },
  {
   "cell_type": "markdown",
   "metadata": {},
   "source": [
    "## Selecting a specific device"
   ]
  },
  {
   "cell_type": "code",
   "execution_count": 7,
   "metadata": {},
   "outputs": [
    {
     "name": "stderr",
     "output_type": "stream",
     "text": [
      "[qibo-connection] 0.0.1|INFO|2021-12-13 15:05:31]: Device 1 selected.\n"
     ]
    }
   ],
   "source": [
    "qili_api.select_device_id(device_id=1)"
   ]
  },
  {
   "cell_type": "markdown",
   "metadata": {},
   "source": [
    "## Creating an experiment to be executed on a remote device"
   ]
  },
  {
   "cell_type": "code",
   "execution_count": 8,
   "metadata": {},
   "outputs": [],
   "source": [
    "bellstate = AlgorithmDefinition(name=AlgorithmName.BELLSTATE,\n",
    "                                type=AlgorithmType.GATE_BASED,\n",
    "                                options=AlgorithmOptions(number_qubits=2,\n",
    "                                                         initial_value=InitialValue.ONE))\n",
    "experiment = ProgramDefinition(algorithms=[bellstate])"
   ]
  },
  {
   "cell_type": "code",
   "execution_count": 9,
   "metadata": {},
   "outputs": [
    {
     "name": "stderr",
     "output_type": "stream",
     "text": [
      "[qibo-connection] 0.0.1|DEBUG|2021-12-13 15:05:36]: Sending experiment for a remote execution...\n",
      "[qibo-connection] 0.0.1|DEBUG|2021-12-13 15:05:37]: Experiment completed successfully.\n"
     ]
    }
   ],
   "source": [
    "results = qili_api.execute(program=experiment)"
   ]
  },
  {
   "cell_type": "code",
   "execution_count": 10,
   "metadata": {},
   "outputs": [
    {
     "data": {
      "text/plain": [
       "array([1.+0.j, 0.+0.j, 0.+0.j, 0.+0.j])"
      ]
     },
     "execution_count": 10,
     "metadata": {},
     "output_type": "execute_result"
    }
   ],
   "source": [
    "results[0]"
   ]
  },
  {
   "cell_type": "code",
   "execution_count": null,
   "metadata": {},
   "outputs": [],
   "source": []
  }
 ],
 "metadata": {
  "interpreter": {
   "hash": "a0f17d9b07be0d5a5d2307a8e1bb0bcd9e844c01675a3ee4cbcec03de6fcf469"
  },
  "kernelspec": {
   "display_name": "Python 3 (ipykernel)",
   "language": "python",
   "name": "python3"
  },
  "language_info": {
   "codemirror_mode": {
    "name": "ipython",
    "version": 3
   },
   "file_extension": ".py",
   "mimetype": "text/x-python",
   "name": "python",
   "nbconvert_exporter": "python",
   "pygments_lexer": "ipython3",
   "version": "3.9.6"
  }
 },
 "nbformat": 4,
 "nbformat_minor": 2
}
