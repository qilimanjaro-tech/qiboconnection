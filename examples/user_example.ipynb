{
 "cells": [
  {
   "cell_type": "code",
   "execution_count": 1,
   "id": "e74f2667-1d3f-4267-ab16-319588460a5f",
   "metadata": {},
   "outputs": [],
   "source": [
    "import contextlib\n",
    "import os\n",
    "from time import sleep\n",
    "\n",
    "import qibo\n",
    "from qibo import gates\n",
    "from qibo.models.circuit import Circuit\n",
    "\n",
    "from qiboconnection.api import API\n",
    "from qiboconnection.connection import ConnectionConfiguration"
   ]
  },
  {
   "attachments": {},
   "cell_type": "markdown",
   "id": "40a35dc8-dbf2-4829-b00b-2822b1ea7f73",
   "metadata": {},
   "source": [
    "## Connect to the Qibo Service API"
   ]
  },
  {
   "cell_type": "code",
   "execution_count": 2,
   "id": "8b532548-c490-42a2-9253-73c393808e98",
   "metadata": {},
   "outputs": [
    {
     "name": "stderr",
     "output_type": "stream",
     "text": [
      "[qibo-connection] 0.9.0|INFO|2023-06-02 10:48:21]: Storing personal qibo configuration...\n"
     ]
    }
   ],
   "source": [
    "os.environ[\"QIBOCONNECTION_ENVIRONMENT\"] = \"development\"\n",
    "configuration = ConnectionConfiguration(username=\"qili-admin-test\", api_key=\"\")\n",
    "qibo_api = API(configuration=configuration)"
   ]
  },
  {
   "attachments": {},
   "cell_type": "markdown",
   "id": "e854e61c-edb2-408b-bbe1-c5041c0a4231",
   "metadata": {},
   "source": [
    "## Load an already existing connection to the Qilimanjaro Service API"
   ]
  },
  {
   "cell_type": "code",
   "execution_count": 4,
   "id": "20731b2c-1b41-4e4e-9762-f4c28cd4a491",
   "metadata": {},
   "outputs": [],
   "source": [
    "qibo_api = API()"
   ]
  },
  {
   "attachments": {},
   "cell_type": "markdown",
   "id": "0bdc2623-3724-4fdc-8189-728065886cf2",
   "metadata": {},
   "source": [
    "## Check a connection is alive"
   ]
  },
  {
   "cell_type": "code",
   "execution_count": 3,
   "id": "23341ebc-7cc3-4a7c-a601-62d5e2d17e42",
   "metadata": {},
   "outputs": [
    {
     "data": {
      "text/plain": [
       "'OK'"
      ]
     },
     "execution_count": 3,
     "metadata": {},
     "output_type": "execute_result"
    }
   ],
   "source": [
    "qibo_api.ping()"
   ]
  },
  {
   "attachments": {},
   "cell_type": "markdown",
   "id": "16dc6ee9-d95c-4e39-8255-7b818b81d92b",
   "metadata": {},
   "source": [
    "## List all registered devices"
   ]
  },
  {
   "cell_type": "code",
   "execution_count": 34,
   "id": "6e86addd-2e05-4236-a39e-7c59e00bac38",
   "metadata": {},
   "outputs": [
    {
     "data": {
      "text/plain": [
       "<Devices[3]:\n",
       "{\n",
       "  \"device_id\": 1,\n",
       "  \"device_name\": \"dev_sim\",\n",
       "  \"status\": \"online\",\n",
       "  \"availability\": \"available\",\n",
       "  \"characteristics\": {\n",
       "    \"type\": \"simulator\",\n",
       "    \"cpu\": null,\n",
       "    \"gpu\": null,\n",
       "    \"os\": null,\n",
       "    \"kernel\": null,\n",
       "    \"ram\": null\n",
       "  }\n",
       "}\n",
       "{\n",
       "  \"device_id\": 9,\n",
       "  \"device_name\": \"dev_quan\",\n",
       "  \"status\": \"online\",\n",
       "  \"availability\": \"available\",\n",
       "  \"characteristics\": {\n",
       "    \"type\": \"quantum\"\n",
       "  },\n",
       "  \"calibration_details\": {\n",
       "    \"t1\": 10,\n",
       "    \"frequency\": 988\n",
       "  }\n",
       "}\n",
       "{\n",
       "  \"device_id\": 10,\n",
       "  \"device_name\": \"offline\",\n",
       "  \"status\": \"offline\",\n",
       "  \"availability\": \"available\"\n",
       "}"
      ]
     },
     "execution_count": 34,
     "metadata": {},
     "output_type": "execute_result"
    }
   ],
   "source": [
    "devices = qibo_api.list_devices()\n",
    "devices"
   ]
  },
  {
   "attachments": {},
   "cell_type": "markdown",
   "id": "309ed987-5898-4d53-a7df-e641322ecf97",
   "metadata": {},
   "source": [
    "## Selecting a specific device"
   ]
  },
  {
   "cell_type": "code",
   "execution_count": 33,
   "id": "8b64be68-a32b-4d85-8301-5f07b5d998c9",
   "metadata": {},
   "outputs": [
    {
     "name": "stderr",
     "output_type": "stream",
     "text": [
      "[qibo-connection] 0.10.0|INFO|2023-05-31 11:28:49]: Device dev_quan selected.\n"
     ]
    }
   ],
   "source": [
    "qibo_api.select_device_id(device_id=9)"
   ]
  },
  {
   "attachments": {},
   "cell_type": "markdown",
   "id": "b36b4d0f-a7dc-4ca6-bf9d-bd526c793ee2",
   "metadata": {},
   "source": [
    "## Creating an experiment to be executed on a remote device"
   ]
  },
  {
   "cell_type": "code",
   "execution_count": 28,
   "id": "22ff3c9e-129f-49c4-8021-6a6cb03dfef5",
   "metadata": {},
   "outputs": [
    {
     "name": "stderr",
     "output_type": "stream",
     "text": [
      "[Qibo 0.1.12.dev0|INFO|2023-05-31 11:28:25]: Using numpy backend on /CPU:0\n"
     ]
    }
   ],
   "source": [
    "qibo.set_backend(\"numpy\")"
   ]
  },
  {
   "cell_type": "code",
   "execution_count": 29,
   "id": "3c60dad0-026e-43bd-b809-c3067b533912",
   "metadata": {},
   "outputs": [
    {
     "data": {
      "text/plain": [
       "MeasurementResult(qubits=(0,), nshots=0)"
      ]
     },
     "execution_count": 29,
     "metadata": {},
     "output_type": "execute_result"
    }
   ],
   "source": [
    "circuit = Circuit(1)\n",
    "circuit.add(gates.H(0))\n",
    "circuit.add(gates.M(0))"
   ]
  },
  {
   "attachments": {},
   "cell_type": "markdown",
   "id": "83b48b1f-a8a5-480c-a21a-ae2f246d245c",
   "metadata": {},
   "source": [
    "## Remote execution and getting a job identifier"
   ]
  },
  {
   "cell_type": "code",
   "execution_count": 35,
   "id": "883ccfe8-cbb5-4372-b6fd-97365b46e4db",
   "metadata": {},
   "outputs": [],
   "source": [
    "job_id = qibo_api.execute(circuit=circuit)"
   ]
  },
  {
   "cell_type": "code",
   "execution_count": 36,
   "id": "0177419a-08f7-4931-affb-68276dcc5344",
   "metadata": {},
   "outputs": [
    {
     "data": {
      "text/plain": [
       "[5420]"
      ]
     },
     "execution_count": 36,
     "metadata": {},
     "output_type": "execute_result"
    }
   ],
   "source": [
    "job_id"
   ]
  },
  {
   "attachments": {},
   "cell_type": "markdown",
   "id": "1f717739-aec1-4c6d-a4c0-39d89846b38d",
   "metadata": {},
   "source": [
    "## User retrieves the Qibo result, but it is still pending"
   ]
  },
  {
   "cell_type": "code",
   "execution_count": 37,
   "id": "fbb59635-adc5-42af-9871-25e669a42f05",
   "metadata": {},
   "outputs": [
    {
     "name": "stderr",
     "output_type": "stream",
     "text": [
      "[qibo-connection] 0.10.0|ERROR|2023-05-31 11:29:04]: Your job with id 5420 failed.\n"
     ]
    }
   ],
   "source": [
    "result = qibo_api.get_result(job_id=job_id[0])"
   ]
  },
  {
   "attachments": {},
   "cell_type": "markdown",
   "id": "e97356d5-ebae-481e-9200-61e1e7bfb65e",
   "metadata": {},
   "source": [
    "## When job is executed remotely, a user can retrieve the actual result"
   ]
  },
  {
   "cell_type": "code",
   "execution_count": 38,
   "id": "9a6ad8da-a60e-4295-b82c-e78a8df29a1a",
   "metadata": {},
   "outputs": [
    {
     "ename": "TypeError",
     "evalue": "type of argument \"job_id\" must be int; got list instead",
     "output_type": "error",
     "traceback": [
      "\u001b[0;31m---------------------------------------------------------------------------\u001b[0m",
      "\u001b[0;31mTypeError\u001b[0m                                 Traceback (most recent call last)",
      "\u001b[1;32m/home/givd/qiboconnection/examples/user_example.ipynb Celda 21\u001b[0m in \u001b[0;36m<cell line: 0>\u001b[0;34m()\u001b[0m\n\u001b[1;32m      <a href='vscode-notebook-cell:/home/givd/qiboconnection/examples/user_example.ipynb#X26sZmlsZQ%3D%3D?line=0'>1</a>\u001b[0m sleep(\u001b[39m1\u001b[39m)\n\u001b[0;32m----> <a href='vscode-notebook-cell:/home/givd/qiboconnection/examples/user_example.ipynb#X26sZmlsZQ%3D%3D?line=1'>2</a>\u001b[0m result \u001b[39m=\u001b[39m qibo_api\u001b[39m.\u001b[39;49mget_result(job_id\u001b[39m=\u001b[39;49mjob_id)\n",
      "File \u001b[0;32m~/miniconda3/envs/qghqs/lib/python3.11/site-packages/typeguard/__init__.py:1032\u001b[0m, in \u001b[0;36mtypechecked.<locals>.wrapper\u001b[0;34m(*args, **kwargs)\u001b[0m\n\u001b[1;32m   1030\u001b[0m \u001b[39mdef\u001b[39;00m \u001b[39mwrapper\u001b[39m(\u001b[39m*\u001b[39margs, \u001b[39m*\u001b[39m\u001b[39m*\u001b[39mkwargs):\n\u001b[1;32m   1031\u001b[0m     memo \u001b[39m=\u001b[39m _CallMemo(python_func, _localns, args\u001b[39m=\u001b[39margs, kwargs\u001b[39m=\u001b[39mkwargs)\n\u001b[0;32m-> 1032\u001b[0m     check_argument_types(memo)\n\u001b[1;32m   1033\u001b[0m     retval \u001b[39m=\u001b[39m func(\u001b[39m*\u001b[39margs, \u001b[39m*\u001b[39m\u001b[39m*\u001b[39mkwargs)\n\u001b[1;32m   1034\u001b[0m     \u001b[39mtry\u001b[39;00m:\n",
      "File \u001b[0;32m~/miniconda3/envs/qghqs/lib/python3.11/site-packages/typeguard/__init__.py:875\u001b[0m, in \u001b[0;36mcheck_argument_types\u001b[0;34m(memo)\u001b[0m\n\u001b[1;32m    873\u001b[0m             check_type(description, value, expected_type, memo)\n\u001b[1;32m    874\u001b[0m         \u001b[39mexcept\u001b[39;00m \u001b[39mTypeError\u001b[39;00m \u001b[39mas\u001b[39;00m exc:  \u001b[39m# suppress unnecessarily long tracebacks\u001b[39;00m\n\u001b[0;32m--> 875\u001b[0m             \u001b[39mraise\u001b[39;00m \u001b[39mTypeError\u001b[39;00m(\u001b[39m*\u001b[39mexc\u001b[39m.\u001b[39margs) \u001b[39mfrom\u001b[39;00m \u001b[39mNone\u001b[39;00m\n\u001b[1;32m    877\u001b[0m \u001b[39mreturn\u001b[39;00m \u001b[39mTrue\u001b[39;00m\n",
      "\u001b[0;31mTypeError\u001b[0m: type of argument \"job_id\" must be int; got list instead"
     ]
    }
   ],
   "source": [
    "sleep(1)\n",
    "result = qibo_api.get_result(job_id=job_id)"
   ]
  },
  {
   "cell_type": "code",
   "execution_count": 15,
   "id": "502c9d41-9d5a-476a-9f06-36beda937238",
   "metadata": {},
   "outputs": [
    {
     "ename": "AttributeError",
     "evalue": "'NoneType' object has no attribute 'state'",
     "output_type": "error",
     "traceback": [
      "\u001b[0;31m---------------------------------------------------------------------------\u001b[0m",
      "\u001b[0;31mAttributeError\u001b[0m                            Traceback (most recent call last)",
      "\u001b[1;32m/home/givd/qiboconnection/examples/user_example.ipynb Celda 22\u001b[0m in \u001b[0;36m<cell line: 0>\u001b[0;34m()\u001b[0m\n\u001b[0;32m----> <a href='vscode-notebook-cell:/home/givd/qiboconnection/examples/user_example.ipynb#X30sZmlsZQ%3D%3D?line=0'>1</a>\u001b[0m result\u001b[39m.\u001b[39;49mstate()\n",
      "\u001b[0;31mAttributeError\u001b[0m: 'NoneType' object has no attribute 'state'"
     ]
    }
   ],
   "source": [
    "result.state()"
   ]
  },
  {
   "cell_type": "code",
   "execution_count": null,
   "id": "2b4735c0-3e3d-4c21-99fb-5fdd1d4f69e5",
   "metadata": {},
   "outputs": [],
   "source": [
    "result.frequencies(binary=True, registers=True)"
   ]
  },
  {
   "cell_type": "code",
   "execution_count": null,
   "id": "74249196-9646-4c0f-8170-7980387aee43",
   "metadata": {},
   "outputs": [],
   "source": [
    "circuit.draw()"
   ]
  },
  {
   "cell_type": "code",
   "execution_count": null,
   "id": "fb7df860-7eb1-49c4-941f-8370f0b4f8bc",
   "metadata": {},
   "outputs": [],
   "source": [
    "qibo_api.release_device(device_id=9)"
   ]
  },
  {
   "cell_type": "code",
   "execution_count": null,
   "id": "de047df2-c5d2-4334-9e7a-91b0a361e0db",
   "metadata": {},
   "outputs": [],
   "source": [
    "devices._devices[0].id"
   ]
  },
  {
   "attachments": {},
   "cell_type": "markdown",
   "id": "2e2fd8bb-6e8d-4f20-bf74-624e4ad84daf",
   "metadata": {},
   "source": [
    "## Block and release a remote device to operate on it"
   ]
  },
  {
   "cell_type": "code",
   "execution_count": null,
   "id": "69472562-612b-47b2-9c0b-70f4d6e1668b",
   "metadata": {},
   "outputs": [],
   "source": [
    "qibo_api.block_device_id(device_id=1)\n",
    "\n",
    "# Do stuff with the device, knowing no one else will access it\n",
    "\n",
    "qibo_api.release_device(device_id=1)"
   ]
  },
  {
   "attachments": {},
   "cell_type": "markdown",
   "id": "50e7f219-31ae-4a52-bdd2-c36bd7b23285",
   "metadata": {},
   "source": [
    "## Trying to block a blocked device will raise an exception"
   ]
  },
  {
   "cell_type": "code",
   "execution_count": null,
   "id": "4676b922-8a23-44e0-a882-6510516a1c62",
   "metadata": {},
   "outputs": [],
   "source": [
    "with contextlib.suppress(Exception):\n",
    "    qibo_api.block_device_id(device_id=1)\n",
    "    qibo_api.block_device_id(device_id=1)\n",
    "\n",
    "qibo_api.release_device(device_id=1)"
   ]
  },
  {
   "cell_type": "code",
   "execution_count": 18,
   "id": "e794b0ba",
   "metadata": {},
   "outputs": [
    {
     "name": "stderr",
     "output_type": "stream",
     "text": [
      "[qibo-connection] 0.9.0|WARNING|2023-06-02 10:52:37]: Your job with id 5685 is completed.\n"
     ]
    }
   ],
   "source": [
    "response = qibo_api.get_job(5685)"
   ]
  },
  {
   "cell_type": "code",
   "execution_count": 20,
   "id": "d21abeaf",
   "metadata": {},
   "outputs": [
    {
     "data": {
      "text/plain": [
       "{'user_id': 3,\n",
       " 'device_id': 1,\n",
       " 'number_shots': 10,\n",
       " 'job_type': 'circuit',\n",
       " 'queue_position': 0,\n",
       " 'status': 'completed',\n",
       " 'state': array([0.70710678+0.j, 0.70710678+0.j]),\n",
       " 'probabilities': array([0.5, 0.5]),\n",
       " 'frequencies': Counter({'0': 5, '1': 5})}"
      ]
     },
     "execution_count": 20,
     "metadata": {},
     "output_type": "execute_result"
    }
   ],
   "source": [
    "response"
   ]
  },
  {
   "attachments": {},
   "cell_type": "markdown",
   "id": "cac732ed",
   "metadata": {},
   "source": [
    "response"
   ]
  }
 ],
 "metadata": {
  "kernelspec": {
   "display_name": "qililab",
   "language": "python",
   "name": "python3"
  },
  "language_info": {
   "codemirror_mode": {
    "name": "ipython",
    "version": 3
   },
   "file_extension": ".py",
   "mimetype": "text/x-python",
   "name": "python",
   "nbconvert_exporter": "python",
   "pygments_lexer": "ipython3",
   "version": "3.11.3"
  },
  "vscode": {
   "interpreter": {
    "hash": "121809f944b81f1847d4ffb8cf36b8f2cd17716ab162240359f9a9bc9250f6c8"
   }
  }
 },
 "nbformat": 4,
 "nbformat_minor": 5
}
