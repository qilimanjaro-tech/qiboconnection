{
 "cells": [
  {
   "cell_type": "code",
   "execution_count": 48,
   "id": "e74f2667-1d3f-4267-ab16-319588460a5f",
   "metadata": {},
   "outputs": [],
   "source": [
    "import contextlib\n",
    "import os\n",
    "from time import sleep\n",
    "\n",
    "import qibo\n",
    "from qibo import gates\n",
    "from qibo.models.circuit import Circuit\n",
    "\n",
    "from qiboconnection.api import API"
   ]
  },
  {
   "cell_type": "code",
   "execution_count": null,
   "id": "4eef07f6",
   "metadata": {},
   "outputs": [],
   "source": [
    "import qililab as ql\n",
    "\n",
    "drag_pulse = ql.IQPair.DRAG(amplitude=1.0, duration=40, num_sigmas=4.5, drag_coefficient=-2.0)\n",
    "readout_pulse = ql.IQPair(I=ql.Square(amplitude=1.0, duration=2000), Q=ql.Square(amplitude=0.0, duration=2000))\n",
    "weights = ql.IQPair(I=ql.Square(amplitude=1.0, duration=2000), Q=ql.Square(amplitude=1.0, duration=2000))\n",
    "time_of_flight = 40\n",
    "shots = 1000\n",
    "\n",
    "qp = ql.QProgram()\n",
    "gain = qp.variable(domain=ql.Domain.Voltage)\n",
    "with qp.average(shots=shots):\n",
    "    with qp.for_loop(variable=gain, start=0.0, stop=1.0, step=0.1):\n",
    "        qp.set_gain(bus=\"drive_q0_bus\", gain=gain)\n",
    "        qp.play(bus=\"drive_q0_bus\", waveform=drag_pulse)\n",
    "        qp.sync()\n",
    "        qp.play(bus=\"readout_q0_bus\", waveform=readout_pulse, wait_time=time_of_flight)\n",
    "        qp.acquire(bus=\"readout_q0_bus\", weights=weights)\n",
    "        qp.wait(bus=\"readout_q0_bus\", duration=10000)"
   ]
  },
  {
   "attachments": {},
   "cell_type": "markdown",
   "id": "40a35dc8-dbf2-4829-b00b-2822b1ea7f73",
   "metadata": {},
   "source": [
    "## Connect to the Qibo Service API"
   ]
  },
  {
   "cell_type": "code",
   "execution_count": 49,
   "id": "8b532548-c490-42a2-9253-73c393808e98",
   "metadata": {},
   "outputs": [],
   "source": [
    "qibo_api = API.login(username=\"ablanco\", api_key=\"8a19dc8f-793d-4aa8-8ee5-03ec6e8152fb\")"
   ]
  },
  {
   "cell_type": "code",
   "execution_count": null,
   "id": "87ee05c6",
   "metadata": {},
   "outputs": [],
   "source": [
    "os.environ[\"QUANTUM_SERVICE_URL\"] = \"https://dev-api.qaas.qilimanjaro.tech\"\n",
    "os.environ[\"QIBOCONNECTION_ENVIRONMENT\"] = \"development\"\n",
    "qibo_api = API.login(username=\"qili-admin-test\", api_key=\"8b2433a2-365c-4dd6-aa02-646ea42ba950\")"
   ]
  },
  {
   "cell_type": "code",
   "execution_count": 10,
   "id": "96602a1a",
   "metadata": {},
   "outputs": [
    {
     "name": "stderr",
     "output_type": "stream",
     "text": [
      "Your job with id 8696 is still pending. Job queue position: 2\n"
     ]
    },
    {
     "data": {
      "text/plain": [
       "'queued'"
      ]
     },
     "execution_count": 10,
     "metadata": {},
     "output_type": "execute_result"
    }
   ],
   "source": [
    "qibo_api.get_job(8696).status"
   ]
  },
  {
   "cell_type": "code",
   "execution_count": 11,
   "id": "e9f1b5b0",
   "metadata": {},
   "outputs": [
    {
     "ename": "NameError",
     "evalue": "name 'qp' is not defined",
     "output_type": "error",
     "traceback": [
      "\u001b[0;31m---------------------------------------------------------------------------\u001b[0m",
      "\u001b[0;31mNameError\u001b[0m                                 Traceback (most recent call last)",
      "Cell \u001b[0;32mIn[11], line 1\u001b[0m\n\u001b[0;32m----> 1\u001b[0m job_id \u001b[39m=\u001b[39m qibo_api\u001b[39m.\u001b[39mexecute(qprogram\u001b[39m=\u001b[39mqp\u001b[39m.\u001b[39mto_dict(),device_ids\u001b[39m=\u001b[39m[\u001b[39m9\u001b[39m])\n",
      "\u001b[0;31mNameError\u001b[0m: name 'qp' is not defined"
     ]
    }
   ],
   "source": [
    "job_id = qibo_api.execute(qprogram=qp.to_dict(), device_ids=[9])"
   ]
  },
  {
   "cell_type": "code",
   "execution_count": null,
   "id": "58b8046b",
   "metadata": {},
   "outputs": [],
   "source": []
  },
  {
   "cell_type": "code",
   "execution_count": null,
   "id": "4b40abe3",
   "metadata": {},
   "outputs": [],
   "source": [
    "ql.QProgram.from_dict(qibo_api.get_job(job_id[0] - 1).description[\"attributes\"])"
   ]
  },
  {
   "cell_type": "code",
   "execution_count": 22,
   "id": "4633f4d1",
   "metadata": {},
   "outputs": [
    {
     "name": "stderr",
     "output_type": "stream",
     "text": [
      "Your job with id 8689 is completed.\n"
     ]
    },
    {
     "data": {
      "text/plain": [
       "[{'probabilities': {'00': 0.75125,\n",
       "   '01': 0.144375,\n",
       "   '10': 0.0345,\n",
       "   '11': 0.069875}}]"
      ]
     },
     "execution_count": 22,
     "metadata": {},
     "output_type": "execute_result"
    }
   ],
   "source": [
    "qibo_api.get_job(8689).result"
   ]
  },
  {
   "attachments": {},
   "cell_type": "markdown",
   "id": "7fd6943c",
   "metadata": {},
   "source": [
    "## List all jobs metadata: list_jobs()"
   ]
  },
  {
   "cell_type": "code",
   "execution_count": null,
   "id": "cd35d979",
   "metadata": {},
   "outputs": [],
   "source": [
    "jobs_df = qibo_api.list_jobs().dataframe\n",
    "jobs_df.head()"
   ]
  },
  {
   "cell_type": "code",
   "execution_count": null,
   "id": "03580212",
   "metadata": {},
   "outputs": [],
   "source": [
    "jobs_df[(jobs_df[\"job_type\"] == \"qprogram\") & (jobs_df[\"user_id\"] == 33)]"
   ]
  },
  {
   "cell_type": "code",
   "execution_count": null,
   "id": "51f4c968",
   "metadata": {},
   "outputs": [],
   "source": [
    "qibo_api.get_job(8204).result.to_dict()"
   ]
  },
  {
   "attachments": {},
   "cell_type": "markdown",
   "id": "39c44c57",
   "metadata": {},
   "source": [
    "## Get specific job data: get_job()"
   ]
  },
  {
   "cell_type": "code",
   "execution_count": null,
   "id": "3b4203d4",
   "metadata": {},
   "outputs": [],
   "source": [
    "# get experiment\n",
    "experiment_data = qibo_api.get_job(job_id=10320)\n",
    "experiment_data"
   ]
  },
  {
   "cell_type": "code",
   "execution_count": null,
   "id": "0c6ef208",
   "metadata": {},
   "outputs": [],
   "source": [
    "experiment_data.description"
   ]
  },
  {
   "cell_type": "code",
   "execution_count": null,
   "id": "bf8a6450",
   "metadata": {},
   "outputs": [],
   "source": [
    "# get circuit\n",
    "circuit_data = qibo_api.get_job(job_id=10323)\n",
    "circuit_data"
   ]
  },
  {
   "cell_type": "code",
   "execution_count": null,
   "id": "bdf14d86",
   "metadata": {},
   "outputs": [],
   "source": [
    "circuit_data.description.draw()"
   ]
  },
  {
   "attachments": {},
   "cell_type": "markdown",
   "id": "e854e61c-edb2-408b-bbe1-c5041c0a4231",
   "metadata": {},
   "source": [
    "## Load an already existing connection to the Qilimanjaro Service API"
   ]
  },
  {
   "cell_type": "code",
   "execution_count": null,
   "id": "20731b2c-1b41-4e4e-9762-f4c28cd4a491",
   "metadata": {},
   "outputs": [],
   "source": [
    "qibo_api = API()"
   ]
  },
  {
   "attachments": {},
   "cell_type": "markdown",
   "id": "0bdc2623-3724-4fdc-8189-728065886cf2",
   "metadata": {},
   "source": [
    "## Check a connection is alive"
   ]
  },
  {
   "cell_type": "code",
   "execution_count": null,
   "id": "23341ebc-7cc3-4a7c-a601-62d5e2d17e42",
   "metadata": {},
   "outputs": [],
   "source": [
    "qibo_api.ping()"
   ]
  },
  {
   "attachments": {},
   "cell_type": "markdown",
   "id": "16dc6ee9-d95c-4e39-8255-7b818b81d92b",
   "metadata": {},
   "source": [
    "## List all registered devices"
   ]
  },
  {
   "cell_type": "code",
   "execution_count": null,
   "id": "6e86addd-2e05-4236-a39e-7c59e00bac38",
   "metadata": {},
   "outputs": [],
   "source": [
    "devices = qibo_api.list_devices()\n",
    "devices"
   ]
  },
  {
   "attachments": {},
   "cell_type": "markdown",
   "id": "309ed987-5898-4d53-a7df-e641322ecf97",
   "metadata": {},
   "source": [
    "## Selecting a specific device"
   ]
  },
  {
   "cell_type": "code",
   "execution_count": 50,
   "id": "8b64be68-a32b-4d85-8301-5f07b5d998c9",
   "metadata": {},
   "outputs": [],
   "source": [
    "qibo_api.select_device_id(device_id=9)"
   ]
  },
  {
   "attachments": {},
   "cell_type": "markdown",
   "id": "b36b4d0f-a7dc-4ca6-bf9d-bd526c793ee2",
   "metadata": {},
   "source": [
    "## Creating an experiment to be executed on a remote device"
   ]
  },
  {
   "cell_type": "code",
   "execution_count": null,
   "id": "22ff3c9e-129f-49c4-8021-6a6cb03dfef5",
   "metadata": {},
   "outputs": [],
   "source": [
    "qibo.set_backend(\"numpy\")"
   ]
  },
  {
   "cell_type": "code",
   "execution_count": 51,
   "id": "3c60dad0-026e-43bd-b809-c3067b533912",
   "metadata": {},
   "outputs": [
    {
     "data": {
      "text/plain": [
       "MeasurementResult(qubits=(0,), nshots=0)"
      ]
     },
     "execution_count": 51,
     "metadata": {},
     "output_type": "execute_result"
    }
   ],
   "source": [
    "circuit = Circuit(1)\n",
    "circuit.add(gates.H(0))\n",
    "circuit.add(gates.X(0))\n",
    "circuit.add(gates.M(0))"
   ]
  },
  {
   "attachments": {},
   "cell_type": "markdown",
   "id": "83b48b1f-a8a5-480c-a21a-ae2f246d245c",
   "metadata": {},
   "source": [
    "## Remote execution and getting a job identifier"
   ]
  },
  {
   "cell_type": "code",
   "execution_count": 52,
   "id": "883ccfe8-cbb5-4372-b6fd-97365b46e4db",
   "metadata": {},
   "outputs": [],
   "source": [
    "job_id = qibo_api.execute(circuit=circuit)"
   ]
  },
  {
   "cell_type": "code",
   "execution_count": 53,
   "id": "03339e5a",
   "metadata": {},
   "outputs": [],
   "source": [
    "qibo_api.cancel_job(job_id[0])"
   ]
  },
  {
   "cell_type": "code",
   "execution_count": 54,
   "id": "0177419a-08f7-4931-affb-68276dcc5344",
   "metadata": {},
   "outputs": [
    {
     "name": "stderr",
     "output_type": "stream",
     "text": [
      "Your job with id 8734 is cancelled.\n"
     ]
    },
    {
     "data": {
      "text/plain": [
       "'cancelled'"
      ]
     },
     "execution_count": 54,
     "metadata": {},
     "output_type": "execute_result"
    }
   ],
   "source": [
    "qibo_api.get_job(job_id[0]).status"
   ]
  },
  {
   "attachments": {},
   "cell_type": "markdown",
   "id": "1f717739-aec1-4c6d-a4c0-39d89846b38d",
   "metadata": {},
   "source": [
    "## User retrieves the Qibo result, but it is still pending"
   ]
  },
  {
   "cell_type": "code",
   "execution_count": null,
   "id": "fbb59635-adc5-42af-9871-25e669a42f05",
   "metadata": {},
   "outputs": [],
   "source": [
    "result = qibo_api.get_result(job_id=job_id[0])"
   ]
  },
  {
   "attachments": {},
   "cell_type": "markdown",
   "id": "e97356d5-ebae-481e-9200-61e1e7bfb65e",
   "metadata": {},
   "source": [
    "## When job is executed remotely, a user can retrieve the actual result"
   ]
  },
  {
   "cell_type": "code",
   "execution_count": null,
   "id": "9a6ad8da-a60e-4295-b82c-e78a8df29a1a",
   "metadata": {},
   "outputs": [],
   "source": [
    "sleep(1)\n",
    "result = qibo_api.get_result(job_id=job_id)"
   ]
  },
  {
   "cell_type": "code",
   "execution_count": null,
   "id": "502c9d41-9d5a-476a-9f06-36beda937238",
   "metadata": {},
   "outputs": [],
   "source": [
    "result.state()"
   ]
  },
  {
   "cell_type": "code",
   "execution_count": null,
   "id": "2b4735c0-3e3d-4c21-99fb-5fdd1d4f69e5",
   "metadata": {},
   "outputs": [],
   "source": [
    "result.frequencies(binary=True, registers=True)"
   ]
  },
  {
   "cell_type": "code",
   "execution_count": null,
   "id": "74249196-9646-4c0f-8170-7980387aee43",
   "metadata": {},
   "outputs": [],
   "source": [
    "circuit.draw()"
   ]
  },
  {
   "cell_type": "code",
   "execution_count": null,
   "id": "fb7df860-7eb1-49c4-941f-8370f0b4f8bc",
   "metadata": {},
   "outputs": [],
   "source": [
    "qibo_api.release_device(device_id=9)"
   ]
  },
  {
   "cell_type": "code",
   "execution_count": null,
   "id": "de047df2-c5d2-4334-9e7a-91b0a361e0db",
   "metadata": {},
   "outputs": [],
   "source": [
    "devices._devices[0].id"
   ]
  },
  {
   "attachments": {},
   "cell_type": "markdown",
   "id": "2e2fd8bb-6e8d-4f20-bf74-624e4ad84daf",
   "metadata": {},
   "source": [
    "## Block and release a remote device to operate on it"
   ]
  },
  {
   "cell_type": "code",
   "execution_count": null,
   "id": "69472562-612b-47b2-9c0b-70f4d6e1668b",
   "metadata": {},
   "outputs": [],
   "source": [
    "qibo_api.block_device_id(device_id=1)\n",
    "\n",
    "# Do stuff with the device, knowing no one else will access it\n",
    "\n",
    "qibo_api.release_device(device_id=1)"
   ]
  },
  {
   "attachments": {},
   "cell_type": "markdown",
   "id": "50e7f219-31ae-4a52-bdd2-c36bd7b23285",
   "metadata": {},
   "source": [
    "## Trying to block a blocked device will raise an exception"
   ]
  },
  {
   "cell_type": "code",
   "execution_count": null,
   "id": "4676b922-8a23-44e0-a882-6510516a1c62",
   "metadata": {},
   "outputs": [],
   "source": [
    "with contextlib.suppress(Exception):\n",
    "    qibo_api.block_device_id(device_id=1)\n",
    "    qibo_api.block_device_id(device_id=1)\n",
    "\n",
    "qibo_api.release_device(device_id=1)"
   ]
  },
  {
   "cell_type": "code",
   "execution_count": null,
   "id": "e794b0ba",
   "metadata": {},
   "outputs": [],
   "source": [
    "response = qibo_api.get_job(5685)"
   ]
  },
  {
   "cell_type": "code",
   "execution_count": null,
   "id": "d21abeaf",
   "metadata": {},
   "outputs": [],
   "source": [
    "response"
   ]
  },
  {
   "attachments": {},
   "cell_type": "markdown",
   "id": "cac732ed",
   "metadata": {},
   "source": [
    "response"
   ]
  }
 ],
 "metadata": {
  "kernelspec": {
   "display_name": "qililab",
   "language": "python",
   "name": "python3"
  },
  "language_info": {
   "codemirror_mode": {
    "name": "ipython",
    "version": 3
   },
   "file_extension": ".py",
   "mimetype": "text/x-python",
   "name": "python",
   "nbconvert_exporter": "python",
   "pygments_lexer": "ipython3",
   "version": "3.11.3"
  },
  "vscode": {
   "interpreter": {
    "hash": "121809f944b81f1847d4ffb8cf36b8f2cd17716ab162240359f9a9bc9250f6c8"
   }
  }
 },
 "nbformat": 4,
 "nbformat_minor": 5
}
