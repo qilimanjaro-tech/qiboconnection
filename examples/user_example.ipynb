{
 "cells": [
  {
   "cell_type": "markdown",
   "id": "3a7f53ba",
   "metadata": {},
   "source": [
    "# Executing quantum circuits through Qilimanjaro's QaaS"
   ]
  },
  {
   "cell_type": "code",
   "execution_count": 1,
   "id": "e74f2667-1d3f-4267-ab16-319588460a5f",
   "metadata": {},
   "outputs": [],
   "source": [
    "from qibo import gates\n",
    "from qibo.models.circuit import Circuit\n",
    "\n",
    "from qiboconnection.api import API"
   ]
  },
  {
   "cell_type": "markdown",
   "id": "feb93001",
   "metadata": {},
   "source": [
    "Log into the service:"
   ]
  },
  {
   "cell_type": "code",
   "execution_count": null,
   "id": "b6f21e01",
   "metadata": {},
   "outputs": [],
   "source": [
    "api = API.login(username=\"\", api_key=\"\")"
   ]
  },
  {
   "cell_type": "markdown",
   "id": "9cbeba03",
   "metadata": {},
   "source": [
    "Check devices status. Only those ONLINE are ready to execute your jobs."
   ]
  },
  {
   "cell_type": "code",
   "execution_count": null,
   "id": "5e9b3b54",
   "metadata": {},
   "outputs": [],
   "source": [
    "api.list_devices()"
   ]
  },
  {
   "cell_type": "markdown",
   "id": "0824de8b",
   "metadata": {},
   "source": [
    "Let's build a 'bit flip' quantum circuit, which we are going to send to Qilimanjaro's Quantum Processing Units:"
   ]
  },
  {
   "cell_type": "code",
   "execution_count": null,
   "id": "f23b1973",
   "metadata": {},
   "outputs": [],
   "source": [
    "circuit = Circuit(nqubits=2)\n",
    "circuit.add(gates.X(0))\n",
    "circuit.add(gates.M(0, 1))"
   ]
  },
  {
   "cell_type": "code",
   "execution_count": null,
   "id": "7675a346",
   "metadata": {},
   "outputs": [],
   "source": [
    "job_id = api.execute(circuit=circuit, device_id=1)"
   ]
  },
  {
   "cell_type": "markdown",
   "id": "b2503bf9",
   "metadata": {},
   "source": [
    "Let's check the result of our job, once it has finished:"
   ]
  },
  {
   "cell_type": "code",
   "execution_count": null,
   "id": "77c50df8",
   "metadata": {},
   "outputs": [],
   "source": [
    "api.get_job(job_id).result"
   ]
  },
  {
   "cell_type": "markdown",
   "id": "9fa462c3",
   "metadata": {},
   "source": [
    "Note that you can list all your past jobs:"
   ]
  },
  {
   "cell_type": "code",
   "execution_count": null,
   "id": "2d61f1b4",
   "metadata": {},
   "outputs": [],
   "source": [
    "api.list_jobs().dataframe"
   ]
  }
 ],
 "metadata": {
  "kernelspec": {
   "display_name": "qililab",
   "language": "python",
   "name": "python3"
  },
  "language_info": {
   "codemirror_mode": {
    "name": "ipython",
    "version": 3
   },
   "file_extension": ".py",
   "mimetype": "text/x-python",
   "name": "python",
   "nbconvert_exporter": "python",
   "pygments_lexer": "ipython3",
   "version": "3.11.3"
  },
  "vscode": {
   "interpreter": {
    "hash": "121809f944b81f1847d4ffb8cf36b8f2cd17716ab162240359f9a9bc9250f6c8"
   }
  }
 },
 "nbformat": 4,
 "nbformat_minor": 5
}
