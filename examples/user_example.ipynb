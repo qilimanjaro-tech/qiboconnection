{
 "cells": [
  {
   "cell_type": "code",
   "execution_count": 2,
   "id": "e74f2667-1d3f-4267-ab16-319588460a5f",
   "metadata": {},
   "outputs": [],
   "source": [
    "import contextlib\n",
    "import os\n",
    "from time import sleep\n",
    "\n",
    "import qibo\n",
    "from qibo import gates\n",
    "from qibo.models.circuit import Circuit\n",
    "\n",
    "from qiboconnection.api import API\n",
    "from qiboconnection.connection import ConnectionConfiguration"
   ]
  },
  {
   "cell_type": "markdown",
   "id": "40a35dc8-dbf2-4829-b00b-2822b1ea7f73",
   "metadata": {},
   "source": [
    "## Connect to the Qibo Service API"
   ]
  },
  {
   "cell_type": "code",
   "execution_count": 3,
   "id": "8b532548-c490-42a2-9253-73c393808e98",
   "metadata": {},
   "outputs": [
    {
     "ename": "TypeError",
     "evalue": "AccessTokenResponse.__init__() missing 1 required positional argument: 'refreshToken'",
     "output_type": "error",
     "traceback": [
      "\u001b[0;31m---------------------------------------------------------------------------\u001b[0m",
      "\u001b[0;31mTypeError\u001b[0m                                 Traceback (most recent call last)",
      "\u001b[1;32m/home/adria/Projects/qiboconnection/examples/user_example.ipynb Cell 3\u001b[0m in \u001b[0;36m<cell line: 0>\u001b[0;34m()\u001b[0m\n\u001b[1;32m      <a href='vscode-notebook-cell:/home/adria/Projects/qiboconnection/examples/user_example.ipynb#W2sZmlsZQ%3D%3D?line=0'>1</a>\u001b[0m os\u001b[39m.\u001b[39menviron[\u001b[39m\"\u001b[39m\u001b[39mQIBOCONNECTION_ENVIRONMENT\u001b[39m\u001b[39m\"\u001b[39m] \u001b[39m=\u001b[39m \u001b[39m'\u001b[39m\u001b[39mdevelopment\u001b[39m\u001b[39m'\u001b[39m\n\u001b[1;32m      <a href='vscode-notebook-cell:/home/adria/Projects/qiboconnection/examples/user_example.ipynb#W2sZmlsZQ%3D%3D?line=1'>2</a>\u001b[0m configuration \u001b[39m=\u001b[39m ConnectionConfiguration(username\u001b[39m=\u001b[39m\u001b[39m\"\u001b[39m\u001b[39mqili-admin-test\u001b[39m\u001b[39m\"\u001b[39m, api_key\u001b[39m=\u001b[39m\u001b[39m\"\u001b[39m\u001b[39m45843bfc-c404-42ad-abc5-070dk7869420\u001b[39m\u001b[39m\"\u001b[39m)\n\u001b[0;32m----> <a href='vscode-notebook-cell:/home/adria/Projects/qiboconnection/examples/user_example.ipynb#W2sZmlsZQ%3D%3D?line=2'>3</a>\u001b[0m qibo_api \u001b[39m=\u001b[39m API(configuration\u001b[39m=\u001b[39;49mconfiguration)\n",
      "File \u001b[0;32m~/miniconda3/envs/qiboconnection/lib/python3.11/site-packages/typeguard/__init__.py:1033\u001b[0m, in \u001b[0;36mtypechecked.<locals>.wrapper\u001b[0;34m(*args, **kwargs)\u001b[0m\n\u001b[1;32m   1031\u001b[0m memo \u001b[39m=\u001b[39m _CallMemo(python_func, _localns, args\u001b[39m=\u001b[39margs, kwargs\u001b[39m=\u001b[39mkwargs)\n\u001b[1;32m   1032\u001b[0m check_argument_types(memo)\n\u001b[0;32m-> 1033\u001b[0m retval \u001b[39m=\u001b[39m func(\u001b[39m*\u001b[39;49margs, \u001b[39m*\u001b[39;49m\u001b[39m*\u001b[39;49mkwargs)\n\u001b[1;32m   1034\u001b[0m \u001b[39mtry\u001b[39;00m:\n\u001b[1;32m   1035\u001b[0m     check_return_type(retval, memo)\n",
      "File \u001b[0;32m~/Projects/qiboconnection/src/qiboconnection/api.py:67\u001b[0m, in \u001b[0;36mAPI.__init__\u001b[0;34m(self, configuration)\u001b[0m\n\u001b[1;32m     62\u001b[0m \u001b[39m@typechecked\u001b[39m\n\u001b[1;32m     63\u001b[0m \u001b[39mdef\u001b[39;00m \u001b[39m__init__\u001b[39m(\n\u001b[1;32m     64\u001b[0m     \u001b[39mself\u001b[39m,\n\u001b[1;32m     65\u001b[0m     configuration: Optional[ConnectionConfiguration] \u001b[39m=\u001b[39m \u001b[39mNone\u001b[39;00m,\n\u001b[1;32m     66\u001b[0m ):\n\u001b[0;32m---> 67\u001b[0m     \u001b[39mself\u001b[39m\u001b[39m.\u001b[39m_connection \u001b[39m=\u001b[39m Connection(configuration\u001b[39m=\u001b[39;49mconfiguration, api_path\u001b[39m=\u001b[39;49m\u001b[39mself\u001b[39;49m\u001b[39m.\u001b[39;49mAPI_PATH)\n\u001b[1;32m     68\u001b[0m     \u001b[39mself\u001b[39m\u001b[39m.\u001b[39m_devices: Devices \u001b[39m|\u001b[39m \u001b[39mNone\u001b[39;00m \u001b[39m=\u001b[39m \u001b[39mNone\u001b[39;00m\n\u001b[1;32m     69\u001b[0m     \u001b[39mself\u001b[39m\u001b[39m.\u001b[39m_jobs: List[Job] \u001b[39m=\u001b[39m []\n",
      "File \u001b[0;32m~/miniconda3/envs/qiboconnection/lib/python3.11/site-packages/typeguard/__init__.py:1033\u001b[0m, in \u001b[0;36mtypechecked.<locals>.wrapper\u001b[0;34m(*args, **kwargs)\u001b[0m\n\u001b[1;32m   1031\u001b[0m memo \u001b[39m=\u001b[39m _CallMemo(python_func, _localns, args\u001b[39m=\u001b[39margs, kwargs\u001b[39m=\u001b[39mkwargs)\n\u001b[1;32m   1032\u001b[0m check_argument_types(memo)\n\u001b[0;32m-> 1033\u001b[0m retval \u001b[39m=\u001b[39m func(\u001b[39m*\u001b[39;49margs, \u001b[39m*\u001b[39;49m\u001b[39m*\u001b[39;49mkwargs)\n\u001b[1;32m   1034\u001b[0m \u001b[39mtry\u001b[39;00m:\n\u001b[1;32m   1035\u001b[0m     check_return_type(retval, memo)\n",
      "File \u001b[0;32m~/Projects/qiboconnection/src/qiboconnection/connection.py:62\u001b[0m, in \u001b[0;36mConnection.__init__\u001b[0;34m(self, configuration, api_path)\u001b[0m\n\u001b[1;32m     60\u001b[0m \u001b[39mself\u001b[39m\u001b[39m.\u001b[39m_authorisation_access_token: \u001b[39mstr\u001b[39m \u001b[39m|\u001b[39m \u001b[39mNone\u001b[39;00m \u001b[39m=\u001b[39m \u001b[39mNone\u001b[39;00m\n\u001b[1;32m     61\u001b[0m \u001b[39mself\u001b[39m\u001b[39m.\u001b[39m_authorisation_refresh_token: \u001b[39mstr\u001b[39m \u001b[39m|\u001b[39m \u001b[39mNone\u001b[39;00m \u001b[39m=\u001b[39m \u001b[39mNone\u001b[39;00m\n\u001b[0;32m---> 62\u001b[0m \u001b[39mself\u001b[39;49m\u001b[39m.\u001b[39;49m_load_configuration(configuration, api_path)\n",
      "File \u001b[0;32m~/Projects/qiboconnection/src/qiboconnection/connection.py:185\u001b[0m, in \u001b[0;36mConnection._load_configuration\u001b[0;34m(self, input_configuration, api_path)\u001b[0m\n\u001b[1;32m    183\u001b[0m     \u001b[39mraise\u001b[39;00m ConnectionException(\u001b[39m\"\u001b[39m\u001b[39mNo api path provided.\u001b[39m\u001b[39m\"\u001b[39m)\n\u001b[1;32m    184\u001b[0m \u001b[39mself\u001b[39m\u001b[39m.\u001b[39m_set_api_calls(api_path\u001b[39m=\u001b[39mapi_path)\n\u001b[0;32m--> 185\u001b[0m \u001b[39mself\u001b[39;49m\u001b[39m.\u001b[39;49m_register_configuration_and_request_authorisation_access_token(input_configuration)\n\u001b[1;32m    186\u001b[0m \u001b[39mself\u001b[39m\u001b[39m.\u001b[39m_load_user_id_from_token(access_token\u001b[39m=\u001b[39m\u001b[39mself\u001b[39m\u001b[39m.\u001b[39m_authorisation_access_token)\n\u001b[1;32m    187\u001b[0m \u001b[39mself\u001b[39m\u001b[39m.\u001b[39m_store_configuration()\n",
      "File \u001b[0;32m~/Projects/qiboconnection/src/qiboconnection/connection.py:197\u001b[0m, in \u001b[0;36mConnection._register_configuration_and_request_authorisation_access_token\u001b[0;34m(self, configuration)\u001b[0m\n\u001b[1;32m    190\u001b[0m \u001b[39m\u001b[39m\u001b[39m\"\"\"\u001b[39;00m\n\u001b[1;32m    191\u001b[0m \u001b[39mSaves the connection info of user and calls urls, and requests for a new access token to be saved to\u001b[39;00m\n\u001b[1;32m    192\u001b[0m \u001b[39m self._authorisation_access_token.\u001b[39;00m\n\u001b[1;32m    193\u001b[0m \u001b[39mArgs:\u001b[39;00m\n\u001b[1;32m    194\u001b[0m \u001b[39m    configuration: configuration to save.\u001b[39;00m\n\u001b[1;32m    195\u001b[0m \u001b[39m\"\"\"\u001b[39;00m\n\u001b[1;32m    196\u001b[0m \u001b[39mself\u001b[39m\u001b[39m.\u001b[39m_register_connection_configuration(configuration)\n\u001b[0;32m--> 197\u001b[0m \u001b[39mself\u001b[39m\u001b[39m.\u001b[39m_authorisation_access_token, \u001b[39mself\u001b[39m\u001b[39m.\u001b[39m_authorisation_refresh_token \u001b[39m=\u001b[39m \u001b[39mself\u001b[39;49m\u001b[39m.\u001b[39;49m_request_authorisation_token()\n",
      "File \u001b[0;32m~/Projects/qiboconnection/src/qiboconnection/connection.py:431\u001b[0m, in \u001b[0;36mConnection._request_authorisation_token\u001b[0;34m(self)\u001b[0m\n\u001b[1;32m    428\u001b[0m \u001b[39mif\u001b[39;00m response\u001b[39m.\u001b[39mstatus_code \u001b[39mnot\u001b[39;00m \u001b[39min\u001b[39;00m [\u001b[39m200\u001b[39m, \u001b[39m201\u001b[39m]:\n\u001b[1;32m    429\u001b[0m     \u001b[39mraise\u001b[39;00m \u001b[39mValueError\u001b[39;00m(\u001b[39mf\u001b[39m\u001b[39m\"\u001b[39m\u001b[39mAuthorisation request failed: \u001b[39m\u001b[39m{\u001b[39;00mresponse\u001b[39m.\u001b[39mreason\u001b[39m}\u001b[39;00m\u001b[39m\"\u001b[39m)\n\u001b[0;32m--> 431\u001b[0m access_token_response: AccessTokenResponse\u001b[39m.\u001b[39maccessToken \u001b[39m=\u001b[39m AccessTokenResponse(\u001b[39m*\u001b[39;49m\u001b[39m*\u001b[39;49mresponse\u001b[39m.\u001b[39;49mjson())\u001b[39m.\u001b[39maccessToken\n\u001b[1;32m    432\u001b[0m logger\u001b[39m.\u001b[39mdebug(\u001b[39m\"\u001b[39m\u001b[39mConnection successfully established.\u001b[39m\u001b[39m\"\u001b[39m)\n\u001b[1;32m    434\u001b[0m \u001b[39mreturn\u001b[39;00m access_token_response\u001b[39m.\u001b[39maccessToken, access_token_response\u001b[39m.\u001b[39mrefreshToken\n",
      "\u001b[0;31mTypeError\u001b[0m: AccessTokenResponse.__init__() missing 1 required positional argument: 'refreshToken'"
     ]
    }
   ],
   "source": [
    "os.environ[\"QIBOCONNECTION_ENVIRONMENT\"] = \"development\"\n",
    "configuration = ConnectionConfiguration(username=\"qili-admin-test\", api_key=\"45843bfc-c404-42ad-abc5-070dk7869420\")\n",
    "qibo_api = API(configuration=configuration)"
   ]
  },
  {
   "cell_type": "markdown",
   "id": "e854e61c-edb2-408b-bbe1-c5041c0a4231",
   "metadata": {},
   "source": [
    "## Load an already existing connection to the Qilimanjaro Service API"
   ]
  },
  {
   "cell_type": "code",
   "execution_count": null,
   "id": "20731b2c-1b41-4e4e-9762-f4c28cd4a491",
   "metadata": {},
   "outputs": [],
   "source": [
    "qibo_api = API()"
   ]
  },
  {
   "cell_type": "markdown",
   "id": "0bdc2623-3724-4fdc-8189-728065886cf2",
   "metadata": {},
   "source": [
    "## Check a connection is alive"
   ]
  },
  {
   "cell_type": "code",
   "execution_count": null,
   "id": "23341ebc-7cc3-4a7c-a601-62d5e2d17e42",
   "metadata": {},
   "outputs": [],
   "source": [
    "qibo_api.ping()"
   ]
  },
  {
   "cell_type": "markdown",
   "id": "16dc6ee9-d95c-4e39-8255-7b818b81d92b",
   "metadata": {},
   "source": [
    "## List all registered devices"
   ]
  },
  {
   "cell_type": "code",
   "execution_count": null,
   "id": "6e86addd-2e05-4236-a39e-7c59e00bac38",
   "metadata": {},
   "outputs": [],
   "source": [
    "devices = qibo_api.list_devices()\n",
    "devices"
   ]
  },
  {
   "cell_type": "markdown",
   "id": "309ed987-5898-4d53-a7df-e641322ecf97",
   "metadata": {},
   "source": [
    "## Selecting a specific device"
   ]
  },
  {
   "cell_type": "code",
   "execution_count": null,
   "id": "8b64be68-a32b-4d85-8301-5f07b5d998c9",
   "metadata": {},
   "outputs": [],
   "source": [
    "qibo_api.select_device_id(device_id=9)"
   ]
  },
  {
   "cell_type": "markdown",
   "id": "b36b4d0f-a7dc-4ca6-bf9d-bd526c793ee2",
   "metadata": {},
   "source": [
    "## Creating an experiment to be executed on a remote device"
   ]
  },
  {
   "cell_type": "code",
   "execution_count": null,
   "id": "22ff3c9e-129f-49c4-8021-6a6cb03dfef5",
   "metadata": {},
   "outputs": [],
   "source": [
    "qibo.set_backend(\"numpy\")"
   ]
  },
  {
   "cell_type": "code",
   "execution_count": null,
   "id": "3c60dad0-026e-43bd-b809-c3067b533912",
   "metadata": {},
   "outputs": [],
   "source": [
    "circuit = Circuit(1)\n",
    "circuit.add(gates.H(0))\n",
    "circuit.add(gates.M(0))"
   ]
  },
  {
   "cell_type": "markdown",
   "id": "83b48b1f-a8a5-480c-a21a-ae2f246d245c",
   "metadata": {},
   "source": [
    "## Remote execution and getting a job identifier"
   ]
  },
  {
   "cell_type": "code",
   "execution_count": null,
   "id": "883ccfe8-cbb5-4372-b6fd-97365b46e4db",
   "metadata": {},
   "outputs": [],
   "source": [
    "job_id = qibo_api.execute(circuit=circuit)"
   ]
  },
  {
   "cell_type": "code",
   "execution_count": null,
   "id": "0177419a-08f7-4931-affb-68276dcc5344",
   "metadata": {},
   "outputs": [],
   "source": [
    "job_id"
   ]
  },
  {
   "cell_type": "markdown",
   "id": "1f717739-aec1-4c6d-a4c0-39d89846b38d",
   "metadata": {},
   "source": [
    "## User retrieves the Qibo result, but it is still pending"
   ]
  },
  {
   "cell_type": "code",
   "execution_count": null,
   "id": "fbb59635-adc5-42af-9871-25e669a42f05",
   "metadata": {},
   "outputs": [],
   "source": [
    "result = qibo_api.get_result(job_id=job_id)"
   ]
  },
  {
   "cell_type": "markdown",
   "id": "e97356d5-ebae-481e-9200-61e1e7bfb65e",
   "metadata": {},
   "source": [
    "## When job is executed remotely, a user can retrieve the actual result"
   ]
  },
  {
   "cell_type": "code",
   "execution_count": null,
   "id": "9a6ad8da-a60e-4295-b82c-e78a8df29a1a",
   "metadata": {},
   "outputs": [],
   "source": [
    "sleep(1)\n",
    "result = qibo_api.get_result(job_id=job_id)"
   ]
  },
  {
   "cell_type": "code",
   "execution_count": null,
   "id": "502c9d41-9d5a-476a-9f06-36beda937238",
   "metadata": {},
   "outputs": [],
   "source": [
    "result.state()"
   ]
  },
  {
   "cell_type": "code",
   "execution_count": null,
   "id": "2b4735c0-3e3d-4c21-99fb-5fdd1d4f69e5",
   "metadata": {},
   "outputs": [],
   "source": [
    "result.frequencies(binary=True, registers=True)"
   ]
  },
  {
   "cell_type": "code",
   "execution_count": null,
   "id": "74249196-9646-4c0f-8170-7980387aee43",
   "metadata": {},
   "outputs": [],
   "source": [
    "circuit.draw()"
   ]
  },
  {
   "cell_type": "code",
   "execution_count": null,
   "id": "fb7df860-7eb1-49c4-941f-8370f0b4f8bc",
   "metadata": {},
   "outputs": [],
   "source": [
    "qibo_api.release_device(device_id=9)"
   ]
  },
  {
   "cell_type": "code",
   "execution_count": null,
   "id": "de047df2-c5d2-4334-9e7a-91b0a361e0db",
   "metadata": {},
   "outputs": [],
   "source": [
    "devices._devices[0].id"
   ]
  },
  {
   "cell_type": "markdown",
   "id": "2e2fd8bb-6e8d-4f20-bf74-624e4ad84daf",
   "metadata": {},
   "source": [
    "## Block and release a remote device to operate on it"
   ]
  },
  {
   "cell_type": "code",
   "execution_count": null,
   "id": "69472562-612b-47b2-9c0b-70f4d6e1668b",
   "metadata": {},
   "outputs": [],
   "source": [
    "qibo_api.block_device_id(device_id=1)\n",
    "\n",
    "# Do stuff with the device, knowing no one else will access it\n",
    "\n",
    "qibo_api.release_device(device_id=1)"
   ]
  },
  {
   "cell_type": "markdown",
   "id": "50e7f219-31ae-4a52-bdd2-c36bd7b23285",
   "metadata": {},
   "source": [
    "## Trying to block a blocked device will raise an exception"
   ]
  },
  {
   "cell_type": "code",
   "execution_count": null,
   "id": "4676b922-8a23-44e0-a882-6510516a1c62",
   "metadata": {},
   "outputs": [],
   "source": [
    "with contextlib.suppress(Exception):\n",
    "    qibo_api.block_device_id(device_id=1)\n",
    "    qibo_api.block_device_id(device_id=1)\n",
    "\n",
    "qibo_api.release_device(device_id=1)"
   ]
  }
 ],
 "metadata": {
  "kernelspec": {
   "display_name": "qililab",
   "language": "python",
   "name": "python3"
  },
  "language_info": {
   "codemirror_mode": {
    "name": "ipython",
    "version": 3
   },
   "file_extension": ".py",
   "mimetype": "text/x-python",
   "name": "python",
   "nbconvert_exporter": "python",
   "pygments_lexer": "ipython3",
   "version": "3.11.3"
  },
  "vscode": {
   "interpreter": {
    "hash": "121809f944b81f1847d4ffb8cf36b8f2cd17716ab162240359f9a9bc9250f6c8"
   }
  }
 },
 "nbformat": 4,
 "nbformat_minor": 5
}
